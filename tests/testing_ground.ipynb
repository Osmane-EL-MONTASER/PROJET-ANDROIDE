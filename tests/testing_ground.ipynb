{
 "cells": [
  {
   "cell_type": "code",
   "execution_count": 11,
   "metadata": {},
   "outputs": [],
   "source": [
    "%load_ext autoreload\n",
    "%autoreload 2\n",
    "\n",
    "from dijkstra import multi_criteria_dijkstra\n",
    "import networkx as nx\n",
    "import heapq\n",
    "import numpy as np"
   ]
  },
  {
   "cell_type": "code",
   "execution_count": 16,
   "metadata": {},
   "outputs": [],
   "source": [
    "G = nx.DiGraph()\n",
    "# definition des noeuds\n",
    "G.add_node(1,label='A',heuristique=0.0)\n",
    "G.add_node(2,label='B',heuristique=0.0)\n",
    "G.add_node(3,label='C',heuristique=0.0)\n",
    "G.add_node(4,label='D',heuristique=0.0)\n",
    "G.add_node(5,label='E',heuristique=0.0)\n",
    "G.add_node(6,label='F',heuristique=0.0)\n",
    "# definition des aretes\n",
    "G.add_edge(1,2,weight=[10.0,4.0,2.0,10.0])\n",
    "G.add_edge(1,3,weight=[6.0,1.0,18.0,10.0])\n",
    "G.add_edge(3,2,weight=[6.0,2.0,10.0,10.0])\n",
    "G.add_edge(2,4,weight=[0.0,10.0,12.0,1.0])\n",
    "G.add_edge(4,6,weight=[10.0,1.0,1.0,1.0])\n",
    "G.add_edge(4,3,weight=[4.0,0.0,0.0,3.0])\n",
    "G.add_edge(3,5,weight=[1.0,4.0,8.0,1.0])\n",
    "G.add_edge(5,4,weight=[5.0,1.0,3.0,7.0])\n",
    "G.add_edge(5,6,weight=[6.0,0.0,0.0,6.0])"
   ]
  },
  {
   "cell_type": "code",
   "execution_count": 17,
   "metadata": {},
   "outputs": [
    {
     "data": {
      "text/plain": [
       "0.0"
      ]
     },
     "execution_count": 17,
     "metadata": {},
     "output_type": "execute_result"
    }
   ],
   "source": [
    "G.nodes[2]['heuristique']"
   ]
  },
  {
   "cell_type": "code",
   "execution_count": 18,
   "metadata": {},
   "outputs": [],
   "source": [
    "algo = multi_criteria_dijkstra(G, 4)"
   ]
  },
  {
   "cell_type": "code",
   "execution_count": 19,
   "metadata": {},
   "outputs": [
    {
     "name": "stdout",
     "output_type": "stream",
     "text": [
      "[[13.0, 5.0, 26.0, 17.0]]\n",
      "[[13.0, 5.0, 26.0, 17.0]]\n",
      "[[13.0, 5.0, 26.0, 17.0]]\n",
      "[[13.0, 5.0, 26.0, 17.0]]\n",
      "[[13.0, 5.0, 26.0, 17.0]]\n"
     ]
    },
    {
     "data": {
      "text/plain": [
       "{1: rec.array([(list([0, 0, 0, 0]), -1, 1, -1, 0)],\n",
       "           dtype=[('weights', 'O'), ('prevnode', '<i8'), ('node', '<i8'), ('previd', '<i8'), ('id', '<i8')]),\n",
       " 2: rec.array([(list([10.0, 4.0, 2.0, 10.0]), 1, 2, 0, 1),\n",
       "            (list([12.0, 3.0, 28.0, 20.0]), 3, 2, 2, 3)],\n",
       "           dtype=[('weights', 'O'), ('prevnode', '<i8'), ('node', '<i8'), ('previd', '<i8'), ('id', '<i8')]),\n",
       " 3: rec.array([(list([6.0, 1.0, 18.0, 10.0]), 1, 3, 0, 2)],\n",
       "           dtype=[('weights', 'O'), ('prevnode', '<i8'), ('node', '<i8'), ('previd', '<i8'), ('id', '<i8')]),\n",
       " 5: rec.array([(list([7.0, 5.0, 26.0, 11.0]), 3, 5, 2, 4)],\n",
       "           dtype=[('weights', 'O'), ('prevnode', '<i8'), ('node', '<i8'), ('previd', '<i8'), ('id', '<i8')]),\n",
       " 4: rec.array([(list([12.0, 6.0, 29.0, 18.0]), 5, 4, 4, 5),\n",
       "            (list([10.0, 14.0, 14.0, 11.0]), 2, 4, 1, 7)],\n",
       "           dtype=[('weights', 'O'), ('prevnode', '<i8'), ('node', '<i8'), ('previd', '<i8'), ('id', '<i8')]),\n",
       " 6: rec.array([(list([13.0, 5.0, 26.0, 17.0]), 5, 6, 4, 6)],\n",
       "           dtype=[('weights', 'O'), ('prevnode', '<i8'), ('node', '<i8'), ('previd', '<i8'), ('id', '<i8')])}"
      ]
     },
     "execution_count": 19,
     "metadata": {},
     "output_type": "execute_result"
    }
   ],
   "source": [
    "algo.dijkstra(G,1,6)"
   ]
  },
  {
   "cell_type": "code",
   "execution_count": 20,
   "metadata": {},
   "outputs": [
    {
     "name": "stdout",
     "output_type": "stream",
     "text": [
      "{1: rec.array([(list([0.0, 0.0, 0.0, 0.0]), -1, 1, -1, 0)],\n",
      "          dtype=[('weights', 'O'), ('prevnode', '<i8'), ('node', '<i8'), ('previd', '<i8'), ('id', '<i8')]), 2: rec.array([(array([10.,  4.,  2., 10.]), 1, 2, 0, 1),\n",
      "           (array([12.,  3., 28., 20.]), 3, 2, 2, 3)],\n",
      "          dtype=[('weights', 'O'), ('prevnode', '<i8'), ('node', '<i8'), ('previd', '<i8'), ('id', '<i8')]), 3: rec.array([(array([ 6.,  1., 18., 10.]), 1, 3, 0, 2)],\n",
      "          dtype=[('weights', 'O'), ('prevnode', '<i8'), ('node', '<i8'), ('previd', '<i8'), ('id', '<i8')]), 5: rec.array([(array([ 7.,  5., 26., 11.]), 3, 5, 2, 4)],\n",
      "          dtype=[('weights', 'O'), ('prevnode', '<i8'), ('node', '<i8'), ('previd', '<i8'), ('id', '<i8')]), 4: rec.array([(array([12.,  6., 29., 18.]), 5, 4, 4, 5),\n",
      "           (array([10., 14., 14., 11.]), 2, 4, 1, 7)],\n",
      "          dtype=[('weights', 'O'), ('prevnode', '<i8'), ('node', '<i8'), ('previd', '<i8'), ('id', '<i8')]), 6: rec.array([(array([13.,  5., 26., 17.]), 5, 6, 4, 6)],\n",
      "          dtype=[('weights', 'O'), ('prevnode', '<i8'), ('node', '<i8'), ('previd', '<i8'), ('id', '<i8')])}\n",
      "[(array([12.,  6., 29., 18.]), 5, 4, 4, 5)\n",
      " (array([10., 14., 14., 11.]), 2, 4, 1, 7)]\n"
     ]
    }
   ],
   "source": [
    "print(algo.a_star(G,1,6))\n",
    "\n",
    "print(algo.a_star(G,1,6)[4])"
   ]
  },
  {
   "cell_type": "code",
   "execution_count": 21,
   "metadata": {},
   "outputs": [],
   "source": [
    "G = nx.DiGraph()\n",
    "# definition des noeuds\n",
    "G.add_node(1,label='A',heuristique=0.0)\n",
    "G.add_node(2,label='B',heuristique=0.0)\n",
    "G.add_node(3,label='C',heuristique=0.0)\n",
    "G.add_node(4,label='D',heuristique=0.0)\n",
    "G.add_node(5,label='E',heuristique=0.0)\n",
    "G.add_node(6,label='F',heuristique=0.0)\n",
    "# definition des aretes\n",
    "G.add_edge(1,2,weight=[10.0,4.0,2.0,10.0])\n",
    "G.add_edge(1,3,weight=[6.0,1.0,18.0,10.0])\n",
    "G.add_edge(3,2,weight=[6.0,2.0,10.0,10.0])\n",
    "G.add_edge(2,4,weight=[0.0,10.0,12.0,1.0])\n",
    "G.add_edge(4,6,weight=[10.0,1.0,1.0,1.0])\n",
    "G.add_edge(4,3,weight=[4.0,0.0,0.0,3.0])\n",
    "G.add_edge(3,5,weight=[1.0,4.0,8.0,1.0])\n",
    "G.add_edge(5,4,weight=[5.0,1.0,3.0,7.0])\n",
    "G.add_edge(5,6,weight=[6.0,0.0,0.0,6.0])"
   ]
  },
  {
   "cell_type": "code",
   "execution_count": 22,
   "metadata": {},
   "outputs": [
    {
     "name": "stdout",
     "output_type": "stream",
     "text": [
      "{1: rec.array([(list([0.0, 0.0, 0.0, 0.0]), -1, 1, -1, 0)],\n",
      "          dtype=[('weights', 'O'), ('prevnode', '<i8'), ('node', '<i8'), ('previd', '<i8'), ('id', '<i8')]), 2: rec.array([(array([10.,  4.,  2., 10.]), 1, 2, 0, 1),\n",
      "           (array([12.,  3., 28., 20.]), 3, 2, 2, 3)],\n",
      "          dtype=[('weights', 'O'), ('prevnode', '<i8'), ('node', '<i8'), ('previd', '<i8'), ('id', '<i8')]), 3: rec.array([(array([ 6.,  1., 18., 10.]), 1, 3, 0, 2)],\n",
      "          dtype=[('weights', 'O'), ('prevnode', '<i8'), ('node', '<i8'), ('previd', '<i8'), ('id', '<i8')]), 5: rec.array([(array([ 7.,  5., 26., 11.]), 3, 5, 2, 4)],\n",
      "          dtype=[('weights', 'O'), ('prevnode', '<i8'), ('node', '<i8'), ('previd', '<i8'), ('id', '<i8')]), 4: rec.array([(array([12.,  6., 29., 18.]), 5, 4, 4, 5),\n",
      "           (array([10., 14., 14., 11.]), 2, 4, 1, 7)],\n",
      "          dtype=[('weights', 'O'), ('prevnode', '<i8'), ('node', '<i8'), ('previd', '<i8'), ('id', '<i8')]), 6: rec.array([(array([13.,  5., 26., 17.]), 5, 6, 4, 6)],\n",
      "          dtype=[('weights', 'O'), ('prevnode', '<i8'), ('node', '<i8'), ('previd', '<i8'), ('id', '<i8')])}\n"
     ]
    }
   ],
   "source": [
    "print(algo.a_star(G,1,6))"
   ]
  },
  {
   "cell_type": "code",
   "execution_count": 23,
   "metadata": {},
   "outputs": [
    {
     "name": "stdout",
     "output_type": "stream",
     "text": [
      "[[-1, -1, -1, -1], [1, 0]]\n",
      "[[0, 0, 0, 0], [1, 0]]\n"
     ]
    }
   ],
   "source": [
    "h = [[[0 for i in range(4)],[1,0]]]\n",
    "heapq.heappush(h, [[-1 for i in range(4)],[1,0]])\n",
    "print(heapq.heappop(h))\n",
    "print(heapq.heappop(h))"
   ]
  },
  {
   "cell_type": "code",
   "execution_count": 24,
   "metadata": {},
   "outputs": [
    {
     "name": "stdout",
     "output_type": "stream",
     "text": [
      "[[[0, 0, 0, 0], [1, 1]]]\n"
     ]
    }
   ],
   "source": [
    "h = [[[0 for i in range(4)],[1,1]]]\n",
    "print(h)"
   ]
  },
  {
   "cell_type": "code",
   "execution_count": 25,
   "metadata": {},
   "outputs": [
    {
     "name": "stdout",
     "output_type": "stream",
     "text": [
      "[[list([0, 0, 0, 0]) list([1, 1])]]\n",
      "[list([1, 1])]\n",
      "[list([1, 1])]\n"
     ]
    }
   ],
   "source": [
    "test = np.asarray(h, dtype=object)\n",
    "print(test)\n",
    "print(test[:,1])\n",
    "print(test[:,1])"
   ]
  },
  {
   "cell_type": "code",
   "execution_count": 26,
   "metadata": {},
   "outputs": [
    {
     "name": "stdout",
     "output_type": "stream",
     "text": [
      "[(None, 0, 0, 0, 0)]\n",
      "[(list([0, 0, 0, 0]), -1, 1, -1, 0) (list([1, 1, 1, 1]),  1, 1,  1, 1)]\n",
      "[[0, 0, 0, 0], [1, 1, 1, 1]]\n",
      "<class 'numpy.ndarray'>\n"
     ]
    }
   ],
   "source": [
    "cost_dtype = np.dtype([('weights', list), ('prevnode', int), ('node', int), ('previd', int), ('id', int)])\n",
    "test = np.recarray((1,), dtype=cost_dtype)\n",
    "print(test)\n",
    "test[0] = ([0 for i in range(4)], -1, 1, -1, 0)\n",
    "test.resize(test.shape[0] + 1)\n",
    "test[-1] = ([1 for i in range(4)], 1, 1, 1,1)\n",
    "print(test)\n",
    "print(test.weights.tolist())\n",
    "print(type(test.weights))"
   ]
  },
  {
   "cell_type": "code",
   "execution_count": null,
   "metadata": {},
   "outputs": [],
   "source": []
  },
  {
   "cell_type": "code",
   "execution_count": 27,
   "metadata": {},
   "outputs": [
    {
     "name": "stdout",
     "output_type": "stream",
     "text": [
      "1 2 {'weight': [10.0, 4.0, 2.0, 10.0]}\n",
      "1 3 {'weight': [6.0, 1.0, 18.0, 10.0]}\n"
     ]
    }
   ],
   "source": [
    "for u, v, data in G.edges(1, data = True):\n",
    "    print(u, v, data)"
   ]
  },
  {
   "cell_type": "code",
   "execution_count": 28,
   "metadata": {},
   "outputs": [
    {
     "data": {
      "text/plain": [
       "True"
      ]
     },
     "execution_count": 28,
     "metadata": {},
     "output_type": "execute_result"
    }
   ],
   "source": [
    "a = np.array([5,5,6,3])\n",
    "b = np.array([2,3,2,1])\n",
    "\n",
    "np.all(a >= b)"
   ]
  },
  {
   "cell_type": "code",
   "execution_count": 29,
   "metadata": {},
   "outputs": [
    {
     "data": {
      "text/plain": [
       "array([[0., 1., 2.],\n",
       "       [1., 0., 1.],\n",
       "       [2., 1., 0.]])"
      ]
     },
     "execution_count": 29,
     "metadata": {},
     "output_type": "execute_result"
    }
   ],
   "source": [
    "v1 = np.array([[1,1,1],[1,1,2],[1,1,3]])\n",
    "v2 = np.array([[1,1,1],[1,1,2],[1,1,3]])\n",
    "\n",
    "np.linalg.norm(v1[:,None,:]-v2[None,:,:], axis=-1)"
   ]
  },
  {
   "cell_type": "code",
   "execution_count": 30,
   "metadata": {},
   "outputs": [
    {
     "name": "stdout",
     "output_type": "stream",
     "text": [
      "[[2.  2.5 3. ]]\n"
     ]
    }
   ],
   "source": [
    "v1 = np.array([[1,2,3]])\n",
    "v2 = np.array([[3,3,3]])\n",
    "\n",
    "print((v1+v2)/2)"
   ]
  },
  {
   "cell_type": "code",
   "execution_count": 31,
   "metadata": {},
   "outputs": [
    {
     "name": "stdout",
     "output_type": "stream",
     "text": [
      "<class 'numpy.ndarray'>\n",
      "{(1, 2, 3)}\n",
      "{1, 2, 3}\n"
     ]
    }
   ],
   "source": [
    "print(type(v1.flatten()))\n",
    "test = set()\n",
    "test.add(tuple(v1.flatten()))\n",
    "print(test)\n",
    "print(set(tuple(v1.flatten())))"
   ]
  },
  {
   "cell_type": "code",
   "execution_count": 9,
   "metadata": {},
   "outputs": [],
   "source": [
    "import pickle\n",
    "\n",
    "file = open(\"paris_graph_with_weights.pickle\", \"rb\")\n",
    "graphParis = pickle.load(file)"
   ]
  },
  {
   "cell_type": "code",
   "execution_count": 12,
   "metadata": {},
   "outputs": [],
   "source": [
    "algo = multi_criteria_dijkstra(graphParis, 4)"
   ]
  },
  {
   "cell_type": "code",
   "execution_count": 17,
   "metadata": {},
   "outputs": [],
   "source": [
    "resultastar = algo.a_star(graphParis,135578024, 17348293)"
   ]
  },
  {
   "cell_type": "code",
   "execution_count": 7,
   "metadata": {},
   "outputs": [
    {
     "name": "stdout",
     "output_type": "stream",
     "text": [
      "{135578024: rec.array([(array([0, 0, 0, 0]), -1, 135578024, -1, 0)],\n",
      "          dtype=[('weights', 'O'), ('prevnode', '<i8'), ('node', '<i8'), ('previd', '<i8'), ('id', '<i8')]), 135578017: rec.array([(array([19.016, 19.016, 19.016,  0.   ]), 135578024, 135578017, 0, 1)],\n",
      "          dtype=[('weights', 'O'), ('prevnode', '<i8'), ('node', '<i8'), ('previd', '<i8'), ('id', '<i8')]), 1762073419: rec.array([(array([25.668, 25.668, 25.668,  0.   ]),  135578024, 1762073419, 0,  2),\n",
      "           (array([66.264, 66.264, 21.307,  0.   ]), 2354781627, 1762073419, 7, 35)],\n",
      "          dtype=[('weights', 'O'), ('prevnode', '<i8'), ('node', '<i8'), ('previd', '<i8'), ('id', '<i8')]), 2078486565: rec.array([(array([21.307, 21.307, 21.307,  0.   ]), 135578024, 2078486565, 0, 3)],\n",
      "          dtype=[('weights', 'O'), ('prevnode', '<i8'), ('node', '<i8'), ('previd', '<i8'), ('id', '<i8')]), 2812206923: rec.array([(array([10.127, 10.127,  0.   ,  0.   ]), 135578024, 2812206923, 0, 4)],\n",
      "          dtype=[('weights', 'O'), ('prevnode', '<i8'), ('node', '<i8'), ('previd', '<i8'), ('id', '<i8')]), 1762073410: rec.array([(array([158.139, 158.139, 158.139,   0.   ]), 2078486565, 1762073410,  3,  6),\n",
      "           (array([193.848, 182.792,  21.307,   0.   ]), 5240597749, 1762073410, 37, 39)],\n",
      "          dtype=[('weights', 'O'), ('prevnode', '<i8'), ('node', '<i8'), ('previd', '<i8'), ('id', '<i8')]), 2354781627: rec.array([(array([43.903, 43.903, 21.307,  0.   ]), 2078486565, 2354781627, 3, 7)],\n",
      "          dtype=[('weights', 'O'), ('prevnode', '<i8'), ('node', '<i8'), ('previd', '<i8'), ('id', '<i8')]), 2812206588: rec.array([(array([31.713, 31.713, 21.307,  0.   ]), 2078486565, 2812206588, 3, 8)],\n",
      "          dtype=[('weights', 'O'), ('prevnode', '<i8'), ('node', '<i8'), ('previd', '<i8'), ('id', '<i8')]), 674728522: rec.array([(array([227.753, 158.139, 158.139,   0.   ]), 1762073410, 674728522, 6, 9)],\n",
      "          dtype=[('weights', 'O'), ('prevnode', '<i8'), ('node', '<i8'), ('previd', '<i8'), ('id', '<i8')]), 5240597749: rec.array([(array([169.195, 158.139, 158.139,   0.   ]), 1762073410, 5240597749, 6, 10),\n",
      "           (array([182.792, 182.792,  21.307,   0.   ]), 2354781627, 5240597749, 7, 37)],\n",
      "          dtype=[('weights', 'O'), ('prevnode', '<i8'), ('node', '<i8'), ('previd', '<i8'), ('id', '<i8')]), 5240597744: rec.array([(array([213.47, 213.47, 213.47,   0.  ]), 1762073410, 5240597744,  6, 11),\n",
      "           (array([224.773, 213.717, 158.139,   0.   ]), 5240597749, 5240597744, 10, 25),\n",
      "           (array([238.37 , 238.37 ,  21.307,   0.   ]), 5240597749, 5240597744, 37, 40)],\n",
      "          dtype=[('weights', 'O'), ('prevnode', '<i8'), ('node', '<i8'), ('previd', '<i8'), ('id', '<i8')]), 2160034007: rec.array([(array([334.611, 334.611, 213.47 ,   0.   ]), 5240597744, 2160034007, 11, 14),\n",
      "           (array([345.914, 334.858, 158.139,   0.   ]), 5240597744, 2160034007, 25, 28),\n",
      "           (array([359.511, 359.511,  21.307,   0.   ]), 5240597744, 2160034007, 40, 43)],\n",
      "          dtype=[('weights', 'O'), ('prevnode', '<i8'), ('node', '<i8'), ('previd', '<i8'), ('id', '<i8')]), 2160033997: rec.array([(array([373.121, 373.121, 251.98 ,   0.   ]), 2160034007, 2160033997, 14, 16),\n",
      "           (array([384.424, 373.368, 196.649,   0.   ]), 2160034007, 2160033997, 28, 30),\n",
      "           (array([398.021, 398.021,  59.817,   0.   ]), 2160034007, 2160033997, 43, 45)],\n",
      "          dtype=[('weights', 'O'), ('prevnode', '<i8'), ('node', '<i8'), ('previd', '<i8'), ('id', '<i8')]), 2160034034: rec.array([(array([358.657, 358.657, 237.516,   0.   ]), 2160034007, 2160034034, 14, 17),\n",
      "           (array([369.96 , 358.904, 182.185,   0.   ]), 2160034007, 2160034034, 28, 31),\n",
      "           (array([383.557, 383.557,  45.353,   0.   ]), 2160034007, 2160034034, 43, 46)],\n",
      "          dtype=[('weights', 'O'), ('prevnode', '<i8'), ('node', '<i8'), ('previd', '<i8'), ('id', '<i8')]), 2160034030: rec.array([(array([381.838, 381.838, 260.697,   0.   ]), 2160034007, 2160034030, 14, 18),\n",
      "           (array([393.141, 382.085, 205.366,   0.   ]), 2160034007, 2160034030, 28, 32),\n",
      "           (array([406.738, 406.738,  68.534,   0.   ]), 2160034007, 2160034030, 43, 47)],\n",
      "          dtype=[('weights', 'O'), ('prevnode', '<i8'), ('node', '<i8'), ('previd', '<i8'), ('id', '<i8')]), 2078486567: rec.array([(array([45.588, 45.588, 21.307,  0.   ]), 2812206588, 2078486567, 8, 21)],\n",
      "          dtype=[('weights', 'O'), ('prevnode', '<i8'), ('node', '<i8'), ('previd', '<i8'), ('id', '<i8')]), 219233930: rec.array([(array([251.033, 158.139, 158.139,   0.   ]), 5240597749, 219233930, 10, 23),\n",
      "           (array([264.63 , 182.792,  21.307,   0.   ]), 5240597749, 219233930, 37, 38)],\n",
      "          dtype=[('weights', 'O'), ('prevnode', '<i8'), ('node', '<i8'), ('previd', '<i8'), ('id', '<i8')]), 2537082850: rec.array([(array([74.776, 74.776, 21.307,  0.   ]), 2354781627, 2537082850, 7, 36)],\n",
      "          dtype=[('weights', 'O'), ('prevnode', '<i8'), ('node', '<i8'), ('previd', '<i8'), ('id', '<i8')]), 2537082851: rec.array([(array([37.8, 37.8, 37.8,  0. ]), 1762073419, 2537082851, 2, 50)],\n",
      "          dtype=[('weights', 'O'), ('prevnode', '<i8'), ('node', '<i8'), ('previd', '<i8'), ('id', '<i8')]), 135612262: rec.array([(array([43.715, 43.715, 43.715,  0.   ]), 1762073419, 135612262, 2, 51)],\n",
      "          dtype=[('weights', 'O'), ('prevnode', '<i8'), ('node', '<i8'), ('previd', '<i8'), ('id', '<i8')]), 202806611: rec.array([(array([559.755, 559.755, 438.614,   0.   ]), 2160033997, 202806611, 16, 53),\n",
      "           (array([571.058, 560.002, 383.283,   0.   ]), 2160033997, 202806611, 30, 59),\n",
      "           (array([584.655, 584.655, 246.451,   0.   ]), 2160033997, 202806611, 45, 65)],\n",
      "          dtype=[('weights', 'O'), ('prevnode', '<i8'), ('node', '<i8'), ('previd', '<i8'), ('id', '<i8')]), 2160033989: rec.array([(array([392.59 , 392.59 , 271.449,   0.   ]), 2160033997, 2160033989, 16, 54),\n",
      "           (array([403.893, 392.837, 216.118,   0.   ]), 2160033997, 2160033989, 30, 60),\n",
      "           (array([417.49 , 417.49 ,  79.286,   0.   ]), 2160033997, 2160033989, 45, 66)],\n",
      "          dtype=[('weights', 'O'), ('prevnode', '<i8'), ('node', '<i8'), ('previd', '<i8'), ('id', '<i8')]), 202808463: rec.array([(array([591.772, 392.59 , 271.449,   0.   ]), 2160033989, 202808463, 54, 56),\n",
      "           (array([603.075, 392.837, 216.118,   0.   ]), 2160033989, 202808463, 60, 62),\n",
      "           (array([616.672, 417.49 ,  79.286,   0.   ]), 2160033989, 202808463, 66, 68)],\n",
      "          dtype=[('weights', 'O'), ('prevnode', '<i8'), ('node', '<i8'), ('previd', '<i8'), ('id', '<i8')])}\n",
      "(array([381.838, 381.838, 260.697,   0.   ]), 2160034007, 2160034030, 14, 18)\n",
      "(array([393.141, 382.085, 205.366,   0.   ]), 2160034007, 2160034030, 28, 32)\n",
      "(array([406.738, 406.738,  68.534,   0.   ]), 2160034007, 2160034030, 43, 47)\n"
     ]
    }
   ],
   "source": [
    "print(resultastar)\n",
    "for record in resultastar.values():\n",
    "    for k in record:\n",
    "        if k[2] == 2160034030:\n",
    "            print(k)"
   ]
  },
  {
   "cell_type": "code",
   "execution_count": 91,
   "metadata": {},
   "outputs": [
    {
     "name": "stdout",
     "output_type": "stream",
     "text": [
      "(array([213.47, 213.47, 213.47,   0.  ]), 5240597744, 2160034007, 11, 14)\n"
     ]
    }
   ],
   "source": [
    "for record in resultastar.values():\n",
    "    for k in record:\n",
    "        if k[4] == 14:\n",
    "            print(k)"
   ]
  },
  {
   "cell_type": "code",
   "execution_count": 92,
   "metadata": {},
   "outputs": [
    {
     "name": "stdout",
     "output_type": "stream",
     "text": [
      "(array([158.139, 158.139, 158.139,   0.   ]), 1762073410, 5240597744, 6, 11)\n"
     ]
    }
   ],
   "source": [
    "for record in resultastar.values():\n",
    "    for k in record:\n",
    "        if k[4] == 11:\n",
    "            print(k)"
   ]
  },
  {
   "cell_type": "code",
   "execution_count": 93,
   "metadata": {},
   "outputs": [
    {
     "name": "stdout",
     "output_type": "stream",
     "text": [
      "(array([21.307, 21.307, 21.307,  0.   ]), 2078486565, 1762073410, 3, 6)\n"
     ]
    }
   ],
   "source": [
    "for record in resultastar.values():\n",
    "    for k in record:\n",
    "        if k[4] == 6:\n",
    "            print(k)"
   ]
  },
  {
   "cell_type": "code",
   "execution_count": 94,
   "metadata": {},
   "outputs": [
    {
     "name": "stdout",
     "output_type": "stream",
     "text": [
      "(array([0., 0., 0., 0.]), 135578024, 2078486565, 0, 3)\n"
     ]
    }
   ],
   "source": [
    "for record in resultastar.values():\n",
    "    for k in record:\n",
    "        if k[4] == 3:\n",
    "            print(k)"
   ]
  },
  {
   "cell_type": "code",
   "execution_count": 15,
   "metadata": {},
   "outputs": [],
   "source": [
    "def lazy_backtrack(input, end):\n",
    "    counter = 0\n",
    "    possible_paths = {}\n",
    "    for record in input.values():\n",
    "        for k in record:\n",
    "            if k[2] == end:\n",
    "                possible_paths[counter] = []\n",
    "                possible_paths[counter].append(k)\n",
    "                counter += 1\n",
    "    for key in possible_paths.keys():\n",
    "        startfound = False\n",
    "        curval = possible_paths[key][-1][3]\n",
    "        while not startfound:\n",
    "            for record in input.values():\n",
    "                if startfound:\n",
    "                    break\n",
    "                for k in record:\n",
    "                    if startfound:\n",
    "                        break\n",
    "                    if k[4] == curval:\n",
    "                        possible_paths[key].append(k)\n",
    "                        curval = k[3]\n",
    "                        if curval == 0:\n",
    "                            startfound = True\n",
    "                            break\n",
    "\n",
    "    return possible_paths"
   ]
  },
  {
   "cell_type": "code",
   "execution_count": 20,
   "metadata": {},
   "outputs": [
    {
     "name": "stdout",
     "output_type": "stream",
     "text": [
      "[(array([2079.846, 1209.76 ,   37.8  ,    0.   ]), 277614019, 17348293, 3968, 3971), (array([2005.953, 1135.867,   37.8  ,    0.   ]), 2629096090, 277614019, 3964, 3968), (array([1743.084, 1135.867,   37.8  ,    0.   ]), 277602898, 2629096090, 3961, 3964), (array([1685.106, 1135.867,   37.8  ,    0.   ]), 277591245, 277602898, 3957, 3961), (array([1632.735, 1135.867,   37.8  ,    0.   ]), 2829333383, 277591245, 3954, 3957), (array([1545.351, 1048.483,   37.8  ,    0.   ]), 9561713750, 2829333383, 3951, 3954), (array([1291.848,  794.98 ,   37.8  ,    0.   ]), 9561713744, 9561713750, 3949, 3951), (array([1273.053,  776.185,   37.8  ,    0.   ]), 2829333373, 9561713744, 3945, 3949), (array([1132.013,  635.145,   37.8  ,    0.   ]), 2829333371, 2829333373, 3942, 3945), (array([1115.39 ,  618.522,   37.8  ,    0.   ]), 277591244, 2829333371, 3937, 3942), (array([921.401, 424.533,  37.8  ,   0.   ]), 2537097424, 277591244, 3934, 3937), (array([896.517, 399.649,  37.8  ,   0.   ]), 2537097423, 2537097424, 3929, 3934), (array([858.272, 361.404,  37.8  ,   0.   ]), 5761494461, 2537097423, 3927, 3929), (array([852.305, 355.437,  37.8  ,   0.   ]), 2721077063, 5761494461, 3923, 3927), (array([846.457, 349.589,  37.8  ,   0.   ]), 2354781624, 2721077063, 1311, 3923), (array([678.387, 181.519,  37.8  ,   0.   ]), 2354781630, 2354781624, 728, 1311), (array([578.844, 181.519,  37.8  ,   0.   ]), 2354781583, 2354781630, 62, 728), (array([392.122, 181.519,  37.8  ,   0.   ]), 2537082845, 2354781583, 18, 62), (array([181.519, 181.519,  37.8  ,   0.   ]), 2537082850, 2537082845, 14, 18), (array([46.455, 46.455, 37.8  ,  0.   ]), 2537082851, 2537082850, 6, 14), (array([37.8, 37.8, 37.8,  0. ]), 1762073419, 2537082851, 2, 6), (array([25.668, 25.668, 25.668,  0.   ]), 135578024, 1762073419, 0, 2)]\n"
     ]
    }
   ],
   "source": [
    "output = lazy_backtrack(resultastar, 17348293)\n",
    "print(output[0])"
   ]
  },
  {
   "cell_type": "code",
   "execution_count": 31,
   "metadata": {},
   "outputs": [
    {
     "name": "stdout",
     "output_type": "stream",
     "text": [
      "[(48.898191, 2.3860098), (48.8976299, 2.3854683), (48.8988505, 2.3825694), (48.898191, 2.3860098), (48.8988356, 2.3817766), (48.8988505, 2.3825694), (48.898821, 2.3810605), (48.8988356, 2.3817766), (48.898811, 2.3798679), (48.898821, 2.3810605), (48.8987194, 2.3764165), (48.898811, 2.3798679), (48.8987125, 2.3761596), (48.8987194, 2.3764165), (48.8986753, 2.374231), (48.8987125, 2.3761596), (48.8986709, 2.3740037), (48.8986753, 2.374231), (48.8986181, 2.3713512), (48.8986709, 2.3740037), (48.8985558, 2.3710283), (48.8986181, 2.3713512), (48.8985465, 2.3705053), (48.8985558, 2.3710283), (48.898545, 2.3704237), (48.8985465, 2.3705053), (48.8985457, 2.3703437), (48.898545, 2.3704237), (48.8984617, 2.3680732), (48.8985457, 2.3703437), (48.8984414, 2.3667118), (48.8984617, 2.3680732), (48.8983807, 2.3641591), (48.8984414, 2.3667118), (48.8983374, 2.3612844), (48.8983807, 2.3641591), (48.898469, 2.3595659), (48.8983374, 2.3612844), (48.8985444, 2.3595365), (48.898469, 2.3595659), (48.8985372, 2.3593709), (48.8985444, 2.3595365), (48.8985244, 2.3590203), (48.8985372, 2.3593709)]\n"
     ]
    }
   ],
   "source": [
    "from overpass import API\n",
    "\n",
    "def get_pos_at(osm_id, api):\n",
    "    pos = api.get(f'node(id:{osm_id});', responseformat=\"csv(::lon,::lat)\")\n",
    "\n",
    "    return (float(pos[1][1]), float(pos[1][0]))\n",
    "\n",
    "api = API(endpoint='http://localhost/api/interpreter')\n",
    "\n",
    "positions = []\n",
    "\n",
    "for edge in output[0]:\n",
    "    pos1 = get_pos_at(edge[1], api)\n",
    "    pos2 = get_pos_at(edge[2], api)\n",
    "\n",
    "    positions.append(pos1)\n",
    "    positions.append(pos2)\n",
    "\n",
    "print(positions)"
   ]
  },
  {
   "cell_type": "code",
   "execution_count": null,
   "metadata": {},
   "outputs": [],
   "source": []
  }
 ],
 "metadata": {
  "kernelspec": {
   "display_name": "projet_androide",
   "language": "python",
   "name": "python3"
  },
  "language_info": {
   "codemirror_mode": {
    "name": "ipython",
    "version": 3
   },
   "file_extension": ".py",
   "mimetype": "text/x-python",
   "name": "python",
   "nbconvert_exporter": "python",
   "pygments_lexer": "ipython3",
   "version": "3.8.16"
  },
  "orig_nbformat": 4
 },
 "nbformat": 4,
 "nbformat_minor": 2
}
