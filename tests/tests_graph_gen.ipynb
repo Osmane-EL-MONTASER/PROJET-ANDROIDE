{
 "cells": [
  {
   "cell_type": "code",
   "execution_count": 1,
   "metadata": {},
   "outputs": [],
   "source": [
    "import osmnx as ox\n",
    "import matplotlib.pyplot as plt\n",
    "import networkx as nx\n",
    "\n",
    "import requests\n",
    "import json\n",
    "from six.moves.urllib.request import urlopen\n",
    "from overpass import API"
   ]
  },
  {
   "cell_type": "code",
   "execution_count": 2,
   "metadata": {},
   "outputs": [],
   "source": [
    "graph = ox.graph_from_place(\"Goutte d'or\", custom_filter = '[highway][highway != \"service\"][highway != \"footway\"][highway != \"motorway\"][highway != \"motorway_link\"][bicycle != \"no\"][highway != \"steps\"][highway != \"busway\"][highway != \"pedestrian\"]')"
   ]
  },
  {
   "cell_type": "code",
   "execution_count": null,
   "metadata": {},
   "outputs": [],
   "source": [
    "import pickle\n",
    "\n",
    "# save graph object t  o file\n",
    "pickle.dump(graph, open('paris_graph.pickle', 'wb'))"
   ]
  },
  {
   "cell_type": "code",
   "execution_count": 3,
   "metadata": {},
   "outputs": [
    {
     "name": "stdout",
     "output_type": "stream",
     "text": [
      "Pos = [2.3586706, 48.8979868]\n"
     ]
    }
   ],
   "source": [
    "def get_pos_from_street(name: str, city:str):\n",
    "    strForQuery = name.replace(' ', '+')\n",
    "    url = 'https://nominatim.openstreetmap.org/search?q=' + strForQuery + f'%2C+{city}&format=geojson'\n",
    "    query = json.loads(urlopen(url).read())\n",
    "\n",
    "    return query['features'][0]['geometry']['coordinates']\n",
    "\n",
    "\n",
    "\n",
    "print(f\"Pos = {get_pos_from_street('93 Rue de la Chapelle', 'Paris')}\")"
   ]
  },
  {
   "cell_type": "code",
   "execution_count": 92,
   "metadata": {},
   "outputs": [
    {
     "name": "stdout",
     "output_type": "stream",
     "text": [
      "Node id = 6659097297\n",
      "Edges = 1135730432 Length =  24.511\n",
      "Node id = 10586970470\n",
      "Edges = 1135730433 Length =  7.961\n",
      "{6659097297: {0: {'osmid': 1135730432, 'highway': 'service', 'maxspeed': '20', 'service': 'driveway', 'access': 'private', 'oneway': False, 'reversed': True, 'length': 24.511}}, 10586970470: {0: {'osmid': 1135730433, 'tunnel': 'building_passage', 'highway': 'service', 'maxspeed': '20', 'service': 'driveway', 'access': 'private', 'oneway': False, 'reversed': False, 'length': 7.961}}}\n"
     ]
    }
   ],
   "source": [
    "# Adresse de départ et adresse d'arrivée\n",
    "start_address = \"93 Rue de la Chapelle, Paris\"\n",
    "\n",
    "# Récupération des coordonnées de départ et d'arrivée\n",
    "start_point = ox.geocode(start_address)\n",
    "\n",
    "graph = ox.graph_from_point(start_point, dist=50, simplify=False)\n",
    "node = ox.nearest_nodes(graph, start_point[1], start_point[0])\n",
    "\n",
    "voisins = graph[node]\n",
    "\n",
    "for voisin in voisins:\n",
    "    print(f'Node id = {voisin}')\n",
    "    print(f'Edges = {voisins[voisin][0][\"osmid\"]} Length = ', voisins[voisin][0]['length'])"
   ]
  },
  {
   "cell_type": "code",
   "execution_count": 14,
   "metadata": {},
   "outputs": [
    {
     "name": "stderr",
     "output_type": "stream",
     "text": [
      "\n",
      "KeyboardInterrupt\n",
      "\n"
     ]
    }
   ],
   "source": [
    "def get_node_pos_from_id(nodeId: int):\n",
    "    api = API(endpoint='http://localhost/api/interpreter')\n",
    "    pos = api.get(f'node(id:{nodeId});', responseformat=\"csv(::lon,::lat)\")\n",
    "    print(pos)\n",
    "\n",
    "    return float(pos[1][1]), float(pos[1][0])\n",
    "\n",
    "def get_neighborhood_at(nodeId: int):\n",
    "\n",
    "    lon, lat = get_node_pos_from_id(nodeId)\n",
    "\n",
    "    graph = ox.graph_from_point((lon, lat), dist=125, simplify=False, custom_filter = '[highway][highway != \"service\"][highway != \"footway\"][highway != \"motorway\"][highway != \"motorway_link\"][bicycle != \"no\"][highway != \"steps\"][highway != \"busway\"][highway != \"pedestrian\"]')\n",
    "\n",
    "    neighbors = graph[nodeId]\n",
    "    nodes = []\n",
    "    edges = []\n",
    "\n",
    "    for voisin in neighbors:\n",
    "        if voisin != 0:\n",
    "            nodes.append(voisin)\n",
    "            edges.append(neighbors[voisin][0][\"osmid\"])\n",
    "\n",
    "    return nodes, edges\n",
    "\n",
    "nodes, edges = get_neighborhood_at(1762073410)\n",
    "\n",
    "print('Nodes : ', nodes)\n",
    "print('Edges : ', edges)"
   ]
  },
  {
   "cell_type": "code",
   "execution_count": 126,
   "metadata": {},
   "outputs": [
    {
     "name": "stdout",
     "output_type": "stream",
     "text": [
      "[['@lon', '@lat'], ['2.3592927', '48.8971100']]\n",
      "Nodes :  [5240597745, 5915269269, 1762073410]\n",
      "Edges :  [164588919, 245453106, 542019795]\n",
      "{\"features\": [{\"geometry\": {\"coordinates\": [], \"type\": \"LineString\"}, \"id\": 542019795, \"properties\": {\"highway\": \"residential\", \"maxspeed\": \"30\", \"name\": \"Rue du Pré\"}, \"type\": \"Feature\"}], \"type\": \"FeatureCollection\"}\n",
      "C'est une mauvaise ou bonne route !\n",
      "[['@lon', '@lat'], ['2.3591416', '48.8971056']]\n",
      "Nodes :  [8165345385, 5240597749, 5240597743]\n",
      "Edges :  [53351901, 542019795, 544727632]\n",
      "{\"features\": [{\"geometry\": {\"coordinates\": [], \"type\": \"LineString\"}, \"id\": 544727632, \"properties\": {\"highway\": \"primary\", \"lanes\": \"3\", \"lit\": \"yes\", \"maxspeed\": \"30\", \"name\": \"Rue de la Chapelle\", \"oneway\": \"yes\", \"surface\": \"asphalt\"}, \"type\": \"Feature\"}], \"type\": \"FeatureCollection\"}\n",
      "C'est une mauvaise ou bonne route !\n",
      "[['@lon', '@lat'], ['2.3591473', '48.8970251']]\n",
      "Nodes :  [5240597744]\n",
      "Edges :  [544727632]\n",
      "{\"features\": [{\"geometry\": {\"coordinates\": [], \"type\": \"LineString\"}, \"id\": 544727632, \"properties\": {\"highway\": \"primary\", \"lanes\": \"3\", \"lit\": \"yes\", \"maxspeed\": \"30\", \"name\": \"Rue de la Chapelle\", \"oneway\": \"yes\", \"surface\": \"asphalt\"}, \"type\": \"Feature\"}], \"type\": \"FeatureCollection\"}\n",
      "C'est une mauvaise ou bonne route !\n",
      "[['@lon', '@lat'], ['2.3592362', '48.8966122']]\n",
      "Nodes :  [2526480496, 5199574219]\n",
      "Edges :  [536837280, 542019796]\n",
      "{\"features\": [{\"geometry\": {\"coordinates\": [], \"type\": \"LineString\"}, \"id\": 542019796, \"properties\": {\"busway:right\": \"lane\", \"cycleway:right\": \"share_busway\", \"cycleway:temporary\": \"yes\", \"highway\": \"primary\", \"lanes\": \"3\", \"lit\": \"yes\", \"maxspeed\": \"30\", \"name\": \"Rue de la Chapelle\", \"oneway\": \"yes\", \"source\": \"cadastre-dgi-fr source : Direction Générale des Impôts - Cadastre. Mise à jour : 2012\", \"surface\": \"asphalt\"}, \"type\": \"Feature\"}], \"type\": \"FeatureCollection\"}\n",
      "C'est une mauvaise ou bonne route !\n",
      "[['@lon', '@lat'], ['2.3592784', '48.8968927']]\n",
      "Nodes :  [2829369678]\n",
      "Edges :  [542019794]\n",
      "{\"features\": [{\"geometry\": {\"coordinates\": [], \"type\": \"LineString\"}, \"id\": 542019794, \"properties\": {\"busway:right\": \"lane\", \"cycleway:right\": \"share_busway\", \"cycleway:temporary\": \"yes\", \"highway\": \"primary\", \"lanes\": \"3\", \"lit\": \"yes\", \"maxspeed\": \"30\", \"name\": \"Rue de la Chapelle\", \"oneway\": \"yes\", \"source\": \"cadastre-dgi-fr source : Direction Générale des Impôts - Cadastre. Mise à jour : 2012\", \"surface\": \"asphalt\"}, \"type\": \"Feature\"}], \"type\": \"FeatureCollection\"}\n",
      "C'est une mauvaise ou bonne route !\n",
      "[['@lon', '@lat'], ['2.3592932', '48.8969904']]\n",
      "Nodes :  [6885934746]\n",
      "Edges :  [542019794]\n",
      "{\"features\": [{\"geometry\": {\"coordinates\": [], \"type\": \"LineString\"}, \"id\": 542019794, \"properties\": {\"busway:right\": \"lane\", \"cycleway:right\": \"share_busway\", \"cycleway:temporary\": \"yes\", \"highway\": \"primary\", \"lanes\": \"3\", \"lit\": \"yes\", \"maxspeed\": \"30\", \"name\": \"Rue de la Chapelle\", \"oneway\": \"yes\", \"source\": \"cadastre-dgi-fr source : Direction Générale des Impôts - Cadastre. Mise à jour : 2012\", \"surface\": \"asphalt\"}, \"type\": \"Feature\"}], \"type\": \"FeatureCollection\"}\n",
      "C'est une mauvaise ou bonne route !\n",
      "[['@lon', '@lat'], ['2.3592977', '48.8970295']]\n",
      "Nodes :  [5240597749]\n",
      "Edges :  [542019794]\n",
      "{\"features\": [{\"geometry\": {\"coordinates\": [], \"type\": \"LineString\"}, \"id\": 542019794, \"properties\": {\"busway:right\": \"lane\", \"cycleway:right\": \"share_busway\", \"cycleway:temporary\": \"yes\", \"highway\": \"primary\", \"lanes\": \"3\", \"lit\": \"yes\", \"maxspeed\": \"30\", \"name\": \"Rue de la Chapelle\", \"oneway\": \"yes\", \"source\": \"cadastre-dgi-fr source : Direction Générale des Impôts - Cadastre. Mise à jour : 2012\", \"surface\": \"asphalt\"}, \"type\": \"Feature\"}], \"type\": \"FeatureCollection\"}\n",
      "C'est une mauvaise ou bonne route !\n",
      "[['@lon', '@lat'], ['2.3592927', '48.8971100']]\n",
      "Nodes :  [5240597745, 5915269269, 1762073410]\n",
      "Edges :  [164588919, 245453106, 542019795]\n",
      "{\"features\": [{\"geometry\": {\"coordinates\": [], \"type\": \"LineString\"}, \"id\": 542019795, \"properties\": {\"highway\": \"residential\", \"maxspeed\": \"30\", \"name\": \"Rue du Pré\"}, \"type\": \"Feature\"}], \"type\": \"FeatureCollection\"}\n",
      "C'est une mauvaise ou bonne route !\n",
      "[['@lon', '@lat'], ['2.3591416', '48.8971056']]\n",
      "Nodes :  [8165345385, 5240597749, 5240597743]\n",
      "Edges :  [53351901, 542019795, 544727632]\n",
      "{\"features\": [{\"geometry\": {\"coordinates\": [], \"type\": \"LineString\"}, \"id\": 544727632, \"properties\": {\"highway\": \"primary\", \"lanes\": \"3\", \"lit\": \"yes\", \"maxspeed\": \"30\", \"name\": \"Rue de la Chapelle\", \"oneway\": \"yes\", \"surface\": \"asphalt\"}, \"type\": \"Feature\"}], \"type\": \"FeatureCollection\"}\n",
      "C'est une mauvaise ou bonne route !\n",
      "[['@lon', '@lat'], ['2.3591473', '48.8970251']]\n",
      "Nodes :  [5240597744]\n",
      "Edges :  [544727632]\n",
      "{\"features\": [{\"geometry\": {\"coordinates\": [], \"type\": \"LineString\"}, \"id\": 544727632, \"properties\": {\"highway\": \"primary\", \"lanes\": \"3\", \"lit\": \"yes\", \"maxspeed\": \"30\", \"name\": \"Rue de la Chapelle\", \"oneway\": \"yes\", \"surface\": \"asphalt\"}, \"type\": \"Feature\"}], \"type\": \"FeatureCollection\"}\n",
      "C'est une mauvaise ou bonne route !\n",
      "[['@lon', '@lat'], ['2.3592362', '48.8966122']]\n",
      "Nodes :  [2526480496, 5199574219]\n",
      "Edges :  [536837280, 542019796]\n",
      "{\"features\": [{\"geometry\": {\"coordinates\": [], \"type\": \"LineString\"}, \"id\": 542019796, \"properties\": {\"busway:right\": \"lane\", \"cycleway:right\": \"share_busway\", \"cycleway:temporary\": \"yes\", \"highway\": \"primary\", \"lanes\": \"3\", \"lit\": \"yes\", \"maxspeed\": \"30\", \"name\": \"Rue de la Chapelle\", \"oneway\": \"yes\", \"source\": \"cadastre-dgi-fr source : Direction Générale des Impôts - Cadastre. Mise à jour : 2012\", \"surface\": \"asphalt\"}, \"type\": \"Feature\"}], \"type\": \"FeatureCollection\"}\n",
      "C'est une mauvaise ou bonne route !\n",
      "[['@lon', '@lat'], ['2.3592784', '48.8968927']]\n",
      "Nodes :  [2829369678]\n",
      "Edges :  [542019794]\n",
      "{\"features\": [{\"geometry\": {\"coordinates\": [], \"type\": \"LineString\"}, \"id\": 542019794, \"properties\": {\"busway:right\": \"lane\", \"cycleway:right\": \"share_busway\", \"cycleway:temporary\": \"yes\", \"highway\": \"primary\", \"lanes\": \"3\", \"lit\": \"yes\", \"maxspeed\": \"30\", \"name\": \"Rue de la Chapelle\", \"oneway\": \"yes\", \"source\": \"cadastre-dgi-fr source : Direction Générale des Impôts - Cadastre. Mise à jour : 2012\", \"surface\": \"asphalt\"}, \"type\": \"Feature\"}], \"type\": \"FeatureCollection\"}\n",
      "C'est une mauvaise ou bonne route !\n",
      "[['@lon', '@lat'], ['2.3592932', '48.8969904']]\n",
      "Nodes :  [6885934746]\n",
      "Edges :  [542019794]\n",
      "{\"features\": [{\"geometry\": {\"coordinates\": [], \"type\": \"LineString\"}, \"id\": 542019794, \"properties\": {\"busway:right\": \"lane\", \"cycleway:right\": \"share_busway\", \"cycleway:temporary\": \"yes\", \"highway\": \"primary\", \"lanes\": \"3\", \"lit\": \"yes\", \"maxspeed\": \"30\", \"name\": \"Rue de la Chapelle\", \"oneway\": \"yes\", \"source\": \"cadastre-dgi-fr source : Direction Générale des Impôts - Cadastre. Mise à jour : 2012\", \"surface\": \"asphalt\"}, \"type\": \"Feature\"}], \"type\": \"FeatureCollection\"}\n",
      "C'est une mauvaise ou bonne route !\n",
      "[['@lon', '@lat'], ['2.3592977', '48.8970295']]\n",
      "Nodes :  [5240597749]\n",
      "Edges :  [542019794]\n",
      "{\"features\": [{\"geometry\": {\"coordinates\": [], \"type\": \"LineString\"}, \"id\": 542019794, \"properties\": {\"busway:right\": \"lane\", \"cycleway:right\": \"share_busway\", \"cycleway:temporary\": \"yes\", \"highway\": \"primary\", \"lanes\": \"3\", \"lit\": \"yes\", \"maxspeed\": \"30\", \"name\": \"Rue de la Chapelle\", \"oneway\": \"yes\", \"source\": \"cadastre-dgi-fr source : Direction Générale des Impôts - Cadastre. Mise à jour : 2012\", \"surface\": \"asphalt\"}, \"type\": \"Feature\"}], \"type\": \"FeatureCollection\"}\n",
      "C'est une mauvaise ou bonne route !\n",
      "[['@lon', '@lat'], ['2.3592927', '48.8971100']]\n",
      "Nodes :  [5240597745, 5915269269, 1762073410]\n",
      "Edges :  [164588919, 245453106, 542019795]\n",
      "{\"features\": [{\"geometry\": {\"coordinates\": [], \"type\": \"LineString\"}, \"id\": 542019795, \"properties\": {\"highway\": \"residential\", \"maxspeed\": \"30\", \"name\": \"Rue du Pré\"}, \"type\": \"Feature\"}], \"type\": \"FeatureCollection\"}\n",
      "C'est une mauvaise ou bonne route !\n",
      "[['@lon', '@lat'], ['2.3591416', '48.8971056']]\n",
      "Nodes :  [8165345385, 5240597749, 5240597743]\n",
      "Edges :  [53351901, 542019795, 544727632]\n",
      "{\"features\": [{\"geometry\": {\"coordinates\": [], \"type\": \"LineString\"}, \"id\": 544727632, \"properties\": {\"highway\": \"primary\", \"lanes\": \"3\", \"lit\": \"yes\", \"maxspeed\": \"30\", \"name\": \"Rue de la Chapelle\", \"oneway\": \"yes\", \"surface\": \"asphalt\"}, \"type\": \"Feature\"}], \"type\": \"FeatureCollection\"}\n",
      "C'est une mauvaise ou bonne route !\n",
      "[['@lon', '@lat'], ['2.3591473', '48.8970251']]\n",
      "Nodes :  [5240597744]\n",
      "Edges :  [544727632]\n",
      "{\"features\": [{\"geometry\": {\"coordinates\": [], \"type\": \"LineString\"}, \"id\": 544727632, \"properties\": {\"highway\": \"primary\", \"lanes\": \"3\", \"lit\": \"yes\", \"maxspeed\": \"30\", \"name\": \"Rue de la Chapelle\", \"oneway\": \"yes\", \"surface\": \"asphalt\"}, \"type\": \"Feature\"}], \"type\": \"FeatureCollection\"}\n",
      "C'est une mauvaise ou bonne route !\n",
      "[['@lon', '@lat'], ['2.3592362', '48.8966122']]\n",
      "Nodes :  [2526480496, 5199574219]\n",
      "Edges :  [536837280, 542019796]\n",
      "{\"features\": [{\"geometry\": {\"coordinates\": [], \"type\": \"LineString\"}, \"id\": 542019796, \"properties\": {\"busway:right\": \"lane\", \"cycleway:right\": \"share_busway\", \"cycleway:temporary\": \"yes\", \"highway\": \"primary\", \"lanes\": \"3\", \"lit\": \"yes\", \"maxspeed\": \"30\", \"name\": \"Rue de la Chapelle\", \"oneway\": \"yes\", \"source\": \"cadastre-dgi-fr source : Direction Générale des Impôts - Cadastre. Mise à jour : 2012\", \"surface\": \"asphalt\"}, \"type\": \"Feature\"}], \"type\": \"FeatureCollection\"}\n",
      "C'est une mauvaise ou bonne route !\n",
      "[['@lon', '@lat'], ['2.3592784', '48.8968927']]\n",
      "Nodes :  [2829369678]\n",
      "Edges :  [542019794]\n",
      "{\"features\": [{\"geometry\": {\"coordinates\": [], \"type\": \"LineString\"}, \"id\": 542019794, \"properties\": {\"busway:right\": \"lane\", \"cycleway:right\": \"share_busway\", \"cycleway:temporary\": \"yes\", \"highway\": \"primary\", \"lanes\": \"3\", \"lit\": \"yes\", \"maxspeed\": \"30\", \"name\": \"Rue de la Chapelle\", \"oneway\": \"yes\", \"source\": \"cadastre-dgi-fr source : Direction Générale des Impôts - Cadastre. Mise à jour : 2012\", \"surface\": \"asphalt\"}, \"type\": \"Feature\"}], \"type\": \"FeatureCollection\"}\n",
      "C'est une mauvaise ou bonne route !\n",
      "[['@lon', '@lat'], ['2.3592932', '48.8969904']]\n",
      "Nodes :  [6885934746]\n",
      "Edges :  [542019794]\n",
      "{\"features\": [{\"geometry\": {\"coordinates\": [], \"type\": \"LineString\"}, \"id\": 542019794, \"properties\": {\"busway:right\": \"lane\", \"cycleway:right\": \"share_busway\", \"cycleway:temporary\": \"yes\", \"highway\": \"primary\", \"lanes\": \"3\", \"lit\": \"yes\", \"maxspeed\": \"30\", \"name\": \"Rue de la Chapelle\", \"oneway\": \"yes\", \"source\": \"cadastre-dgi-fr source : Direction Générale des Impôts - Cadastre. Mise à jour : 2012\", \"surface\": \"asphalt\"}, \"type\": \"Feature\"}], \"type\": \"FeatureCollection\"}\n",
      "C'est une mauvaise ou bonne route !\n",
      "[['@lon', '@lat'], ['2.3592977', '48.8970295']]\n",
      "Nodes :  [5240597749]\n",
      "Edges :  [542019794]\n",
      "{\"features\": [{\"geometry\": {\"coordinates\": [], \"type\": \"LineString\"}, \"id\": 542019794, \"properties\": {\"busway:right\": \"lane\", \"cycleway:right\": \"share_busway\", \"cycleway:temporary\": \"yes\", \"highway\": \"primary\", \"lanes\": \"3\", \"lit\": \"yes\", \"maxspeed\": \"30\", \"name\": \"Rue de la Chapelle\", \"oneway\": \"yes\", \"source\": \"cadastre-dgi-fr source : Direction Générale des Impôts - Cadastre. Mise à jour : 2012\", \"surface\": \"asphalt\"}, \"type\": \"Feature\"}], \"type\": \"FeatureCollection\"}\n",
      "C'est une mauvaise ou bonne route !\n",
      "[['@lon', '@lat'], ['2.3592927', '48.8971100']]\n",
      "Nodes :  [5240597745, 5915269269, 1762073410]\n",
      "Edges :  [164588919, 245453106, 542019795]\n",
      "{\"features\": [{\"geometry\": {\"coordinates\": [], \"type\": \"LineString\"}, \"id\": 542019795, \"properties\": {\"highway\": \"residential\", \"maxspeed\": \"30\", \"name\": \"Rue du Pré\"}, \"type\": \"Feature\"}], \"type\": \"FeatureCollection\"}\n",
      "C'est une mauvaise ou bonne route !\n",
      "[['@lon', '@lat'], ['2.3591416', '48.8971056']]\n",
      "Nodes :  [8165345385, 5240597749, 5240597743]\n",
      "Edges :  [53351901, 542019795, 544727632]\n",
      "{\"features\": [{\"geometry\": {\"coordinates\": [], \"type\": \"LineString\"}, \"id\": 544727632, \"properties\": {\"highway\": \"primary\", \"lanes\": \"3\", \"lit\": \"yes\", \"maxspeed\": \"30\", \"name\": \"Rue de la Chapelle\", \"oneway\": \"yes\", \"surface\": \"asphalt\"}, \"type\": \"Feature\"}], \"type\": \"FeatureCollection\"}\n",
      "C'est une mauvaise ou bonne route !\n",
      "[['@lon', '@lat'], ['2.3591473', '48.8970251']]\n",
      "Nodes :  [5240597744]\n",
      "Edges :  [544727632]\n",
      "{\"features\": [{\"geometry\": {\"coordinates\": [], \"type\": \"LineString\"}, \"id\": 544727632, \"properties\": {\"highway\": \"primary\", \"lanes\": \"3\", \"lit\": \"yes\", \"maxspeed\": \"30\", \"name\": \"Rue de la Chapelle\", \"oneway\": \"yes\", \"surface\": \"asphalt\"}, \"type\": \"Feature\"}], \"type\": \"FeatureCollection\"}\n",
      "C'est une mauvaise ou bonne route !\n",
      "[['@lon', '@lat'], ['2.3592362', '48.8966122']]\n",
      "Nodes :  [2526480496, 5199574219]\n",
      "Edges :  [536837280, 542019796]\n",
      "{\"features\": [{\"geometry\": {\"coordinates\": [], \"type\": \"LineString\"}, \"id\": 542019796, \"properties\": {\"busway:right\": \"lane\", \"cycleway:right\": \"share_busway\", \"cycleway:temporary\": \"yes\", \"highway\": \"primary\", \"lanes\": \"3\", \"lit\": \"yes\", \"maxspeed\": \"30\", \"name\": \"Rue de la Chapelle\", \"oneway\": \"yes\", \"source\": \"cadastre-dgi-fr source : Direction Générale des Impôts - Cadastre. Mise à jour : 2012\", \"surface\": \"asphalt\"}, \"type\": \"Feature\"}], \"type\": \"FeatureCollection\"}\n",
      "C'est une mauvaise ou bonne route !\n",
      "[['@lon', '@lat'], ['2.3592784', '48.8968927']]\n",
      "Nodes :  [2829369678]\n",
      "Edges :  [542019794]\n",
      "{\"features\": [{\"geometry\": {\"coordinates\": [], \"type\": \"LineString\"}, \"id\": 542019794, \"properties\": {\"busway:right\": \"lane\", \"cycleway:right\": \"share_busway\", \"cycleway:temporary\": \"yes\", \"highway\": \"primary\", \"lanes\": \"3\", \"lit\": \"yes\", \"maxspeed\": \"30\", \"name\": \"Rue de la Chapelle\", \"oneway\": \"yes\", \"source\": \"cadastre-dgi-fr source : Direction Générale des Impôts - Cadastre. Mise à jour : 2012\", \"surface\": \"asphalt\"}, \"type\": \"Feature\"}], \"type\": \"FeatureCollection\"}\n",
      "C'est une mauvaise ou bonne route !\n",
      "[['@lon', '@lat'], ['2.3592932', '48.8969904']]\n",
      "Nodes :  [6885934746]\n",
      "Edges :  [542019794]\n",
      "{\"features\": [{\"geometry\": {\"coordinates\": [], \"type\": \"LineString\"}, \"id\": 542019794, \"properties\": {\"busway:right\": \"lane\", \"cycleway:right\": \"share_busway\", \"cycleway:temporary\": \"yes\", \"highway\": \"primary\", \"lanes\": \"3\", \"lit\": \"yes\", \"maxspeed\": \"30\", \"name\": \"Rue de la Chapelle\", \"oneway\": \"yes\", \"source\": \"cadastre-dgi-fr source : Direction Générale des Impôts - Cadastre. Mise à jour : 2012\", \"surface\": \"asphalt\"}, \"type\": \"Feature\"}], \"type\": \"FeatureCollection\"}\n",
      "C'est une mauvaise ou bonne route !\n",
      "[['@lon', '@lat'], ['2.3592977', '48.8970295']]\n",
      "Nodes :  [5240597749]\n",
      "Edges :  [542019794]\n",
      "{\"features\": [{\"geometry\": {\"coordinates\": [], \"type\": \"LineString\"}, \"id\": 542019794, \"properties\": {\"busway:right\": \"lane\", \"cycleway:right\": \"share_busway\", \"cycleway:temporary\": \"yes\", \"highway\": \"primary\", \"lanes\": \"3\", \"lit\": \"yes\", \"maxspeed\": \"30\", \"name\": \"Rue de la Chapelle\", \"oneway\": \"yes\", \"source\": \"cadastre-dgi-fr source : Direction Générale des Impôts - Cadastre. Mise à jour : 2012\", \"surface\": \"asphalt\"}, \"type\": \"Feature\"}], \"type\": \"FeatureCollection\"}\n",
      "C'est une mauvaise ou bonne route !\n",
      "[['@lon', '@lat'], ['2.3592927', '48.8971100']]\n",
      "Nodes :  [5240597745, 5915269269, 1762073410]\n",
      "Edges :  [164588919, 245453106, 542019795]\n",
      "{\"features\": [{\"geometry\": {\"coordinates\": [], \"type\": \"LineString\"}, \"id\": 542019795, \"properties\": {\"highway\": \"residential\", \"maxspeed\": \"30\", \"name\": \"Rue du Pré\"}, \"type\": \"Feature\"}], \"type\": \"FeatureCollection\"}\n",
      "C'est une mauvaise ou bonne route !\n",
      "[['@lon', '@lat'], ['2.3591416', '48.8971056']]\n",
      "Nodes :  [8165345385, 5240597749, 5240597743]\n",
      "Edges :  [53351901, 542019795, 544727632]\n",
      "{\"features\": [{\"geometry\": {\"coordinates\": [], \"type\": \"LineString\"}, \"id\": 544727632, \"properties\": {\"highway\": \"primary\", \"lanes\": \"3\", \"lit\": \"yes\", \"maxspeed\": \"30\", \"name\": \"Rue de la Chapelle\", \"oneway\": \"yes\", \"surface\": \"asphalt\"}, \"type\": \"Feature\"}], \"type\": \"FeatureCollection\"}\n",
      "C'est une mauvaise ou bonne route !\n",
      "[['@lon', '@lat'], ['2.3591473', '48.8970251']]\n",
      "Nodes :  [5240597744]\n",
      "Edges :  [544727632]\n",
      "{\"features\": [{\"geometry\": {\"coordinates\": [], \"type\": \"LineString\"}, \"id\": 544727632, \"properties\": {\"highway\": \"primary\", \"lanes\": \"3\", \"lit\": \"yes\", \"maxspeed\": \"30\", \"name\": \"Rue de la Chapelle\", \"oneway\": \"yes\", \"surface\": \"asphalt\"}, \"type\": \"Feature\"}], \"type\": \"FeatureCollection\"}\n",
      "C'est une mauvaise ou bonne route !\n",
      "[['@lon', '@lat'], ['2.3592362', '48.8966122']]\n",
      "Nodes :  [2526480496, 5199574219]\n",
      "Edges :  [536837280, 542019796]\n",
      "{\"features\": [{\"geometry\": {\"coordinates\": [], \"type\": \"LineString\"}, \"id\": 542019796, \"properties\": {\"busway:right\": \"lane\", \"cycleway:right\": \"share_busway\", \"cycleway:temporary\": \"yes\", \"highway\": \"primary\", \"lanes\": \"3\", \"lit\": \"yes\", \"maxspeed\": \"30\", \"name\": \"Rue de la Chapelle\", \"oneway\": \"yes\", \"source\": \"cadastre-dgi-fr source : Direction Générale des Impôts - Cadastre. Mise à jour : 2012\", \"surface\": \"asphalt\"}, \"type\": \"Feature\"}], \"type\": \"FeatureCollection\"}\n",
      "C'est une mauvaise ou bonne route !\n",
      "[['@lon', '@lat'], ['2.3592784', '48.8968927']]\n",
      "Nodes :  [2829369678]\n",
      "Edges :  [542019794]\n",
      "{\"features\": [{\"geometry\": {\"coordinates\": [], \"type\": \"LineString\"}, \"id\": 542019794, \"properties\": {\"busway:right\": \"lane\", \"cycleway:right\": \"share_busway\", \"cycleway:temporary\": \"yes\", \"highway\": \"primary\", \"lanes\": \"3\", \"lit\": \"yes\", \"maxspeed\": \"30\", \"name\": \"Rue de la Chapelle\", \"oneway\": \"yes\", \"source\": \"cadastre-dgi-fr source : Direction Générale des Impôts - Cadastre. Mise à jour : 2012\", \"surface\": \"asphalt\"}, \"type\": \"Feature\"}], \"type\": \"FeatureCollection\"}\n",
      "C'est une mauvaise ou bonne route !\n",
      "[['@lon', '@lat'], ['2.3592932', '48.8969904']]\n",
      "Nodes :  [6885934746]\n",
      "Edges :  [542019794]\n",
      "{\"features\": [{\"geometry\": {\"coordinates\": [], \"type\": \"LineString\"}, \"id\": 542019794, \"properties\": {\"busway:right\": \"lane\", \"cycleway:right\": \"share_busway\", \"cycleway:temporary\": \"yes\", \"highway\": \"primary\", \"lanes\": \"3\", \"lit\": \"yes\", \"maxspeed\": \"30\", \"name\": \"Rue de la Chapelle\", \"oneway\": \"yes\", \"source\": \"cadastre-dgi-fr source : Direction Générale des Impôts - Cadastre. Mise à jour : 2012\", \"surface\": \"asphalt\"}, \"type\": \"Feature\"}], \"type\": \"FeatureCollection\"}\n",
      "C'est une mauvaise ou bonne route !\n",
      "[['@lon', '@lat'], ['2.3592977', '48.8970295']]\n",
      "Nodes :  [5240597749]\n",
      "Edges :  [542019794]\n",
      "{\"features\": [{\"geometry\": {\"coordinates\": [], \"type\": \"LineString\"}, \"id\": 542019794, \"properties\": {\"busway:right\": \"lane\", \"cycleway:right\": \"share_busway\", \"cycleway:temporary\": \"yes\", \"highway\": \"primary\", \"lanes\": \"3\", \"lit\": \"yes\", \"maxspeed\": \"30\", \"name\": \"Rue de la Chapelle\", \"oneway\": \"yes\", \"source\": \"cadastre-dgi-fr source : Direction Générale des Impôts - Cadastre. Mise à jour : 2012\", \"surface\": \"asphalt\"}, \"type\": \"Feature\"}], \"type\": \"FeatureCollection\"}\n",
      "C'est une mauvaise ou bonne route !\n",
      "[['@lon', '@lat'], ['2.3592927', '48.8971100']]\n",
      "Nodes :  [5240597745, 5915269269, 1762073410]\n",
      "Edges :  [164588919, 245453106, 542019795]\n",
      "{\"features\": [{\"geometry\": {\"coordinates\": [], \"type\": \"LineString\"}, \"id\": 542019795, \"properties\": {\"highway\": \"residential\", \"maxspeed\": \"30\", \"name\": \"Rue du Pré\"}, \"type\": \"Feature\"}], \"type\": \"FeatureCollection\"}\n",
      "C'est une mauvaise ou bonne route !\n",
      "[['@lon', '@lat'], ['2.3591416', '48.8971056']]\n",
      "Nodes :  [8165345385, 5240597749, 5240597743]\n",
      "Edges :  [53351901, 542019795, 544727632]\n",
      "{\"features\": [{\"geometry\": {\"coordinates\": [], \"type\": \"LineString\"}, \"id\": 544727632, \"properties\": {\"highway\": \"primary\", \"lanes\": \"3\", \"lit\": \"yes\", \"maxspeed\": \"30\", \"name\": \"Rue de la Chapelle\", \"oneway\": \"yes\", \"surface\": \"asphalt\"}, \"type\": \"Feature\"}], \"type\": \"FeatureCollection\"}\n",
      "C'est une mauvaise ou bonne route !\n",
      "[['@lon', '@lat'], ['2.3591473', '48.8970251']]\n",
      "Nodes :  [5240597744]\n",
      "Edges :  [544727632]\n",
      "{\"features\": [{\"geometry\": {\"coordinates\": [], \"type\": \"LineString\"}, \"id\": 544727632, \"properties\": {\"highway\": \"primary\", \"lanes\": \"3\", \"lit\": \"yes\", \"maxspeed\": \"30\", \"name\": \"Rue de la Chapelle\", \"oneway\": \"yes\", \"surface\": \"asphalt\"}, \"type\": \"Feature\"}], \"type\": \"FeatureCollection\"}\n",
      "C'est une mauvaise ou bonne route !\n",
      "[['@lon', '@lat'], ['2.3592362', '48.8966122']]\n",
      "Nodes :  [2526480496, 5199574219]\n",
      "Edges :  [536837280, 542019796]\n",
      "{\"features\": [{\"geometry\": {\"coordinates\": [], \"type\": \"LineString\"}, \"id\": 542019796, \"properties\": {\"busway:right\": \"lane\", \"cycleway:right\": \"share_busway\", \"cycleway:temporary\": \"yes\", \"highway\": \"primary\", \"lanes\": \"3\", \"lit\": \"yes\", \"maxspeed\": \"30\", \"name\": \"Rue de la Chapelle\", \"oneway\": \"yes\", \"source\": \"cadastre-dgi-fr source : Direction Générale des Impôts - Cadastre. Mise à jour : 2012\", \"surface\": \"asphalt\"}, \"type\": \"Feature\"}], \"type\": \"FeatureCollection\"}\n",
      "C'est une mauvaise ou bonne route !\n",
      "[['@lon', '@lat'], ['2.3592784', '48.8968927']]\n",
      "Nodes :  [2829369678]\n",
      "Edges :  [542019794]\n",
      "{\"features\": [{\"geometry\": {\"coordinates\": [], \"type\": \"LineString\"}, \"id\": 542019794, \"properties\": {\"busway:right\": \"lane\", \"cycleway:right\": \"share_busway\", \"cycleway:temporary\": \"yes\", \"highway\": \"primary\", \"lanes\": \"3\", \"lit\": \"yes\", \"maxspeed\": \"30\", \"name\": \"Rue de la Chapelle\", \"oneway\": \"yes\", \"source\": \"cadastre-dgi-fr source : Direction Générale des Impôts - Cadastre. Mise à jour : 2012\", \"surface\": \"asphalt\"}, \"type\": \"Feature\"}], \"type\": \"FeatureCollection\"}\n",
      "C'est une mauvaise ou bonne route !\n",
      "[['@lon', '@lat'], ['2.3592932', '48.8969904']]\n",
      "Nodes :  [6885934746]\n",
      "Edges :  [542019794]\n",
      "{\"features\": [{\"geometry\": {\"coordinates\": [], \"type\": \"LineString\"}, \"id\": 542019794, \"properties\": {\"busway:right\": \"lane\", \"cycleway:right\": \"share_busway\", \"cycleway:temporary\": \"yes\", \"highway\": \"primary\", \"lanes\": \"3\", \"lit\": \"yes\", \"maxspeed\": \"30\", \"name\": \"Rue de la Chapelle\", \"oneway\": \"yes\", \"source\": \"cadastre-dgi-fr source : Direction Générale des Impôts - Cadastre. Mise à jour : 2012\", \"surface\": \"asphalt\"}, \"type\": \"Feature\"}], \"type\": \"FeatureCollection\"}\n",
      "C'est une mauvaise ou bonne route !\n",
      "[['@lon', '@lat'], ['2.3592977', '48.8970295']]\n",
      "Nodes :  [5240597749]\n",
      "Edges :  [542019794]\n",
      "{\"features\": [{\"geometry\": {\"coordinates\": [], \"type\": \"LineString\"}, \"id\": 542019794, \"properties\": {\"busway:right\": \"lane\", \"cycleway:right\": \"share_busway\", \"cycleway:temporary\": \"yes\", \"highway\": \"primary\", \"lanes\": \"3\", \"lit\": \"yes\", \"maxspeed\": \"30\", \"name\": \"Rue de la Chapelle\", \"oneway\": \"yes\", \"source\": \"cadastre-dgi-fr source : Direction Générale des Impôts - Cadastre. Mise à jour : 2012\", \"surface\": \"asphalt\"}, \"type\": \"Feature\"}], \"type\": \"FeatureCollection\"}\n",
      "C'est une mauvaise ou bonne route !\n",
      "[['@lon', '@lat'], ['2.3592927', '48.8971100']]\n",
      "Nodes :  [5240597745, 5915269269, 1762073410]\n",
      "Edges :  [164588919, 245453106, 542019795]\n",
      "{\"features\": [{\"geometry\": {\"coordinates\": [], \"type\": \"LineString\"}, \"id\": 542019795, \"properties\": {\"highway\": \"residential\", \"maxspeed\": \"30\", \"name\": \"Rue du Pré\"}, \"type\": \"Feature\"}], \"type\": \"FeatureCollection\"}\n",
      "C'est une mauvaise ou bonne route !\n",
      "[['@lon', '@lat'], ['2.3591416', '48.8971056']]\n",
      "Nodes :  [8165345385, 5240597749, 5240597743]\n",
      "Edges :  [53351901, 542019795, 544727632]\n",
      "{\"features\": [{\"geometry\": {\"coordinates\": [], \"type\": \"LineString\"}, \"id\": 544727632, \"properties\": {\"highway\": \"primary\", \"lanes\": \"3\", \"lit\": \"yes\", \"maxspeed\": \"30\", \"name\": \"Rue de la Chapelle\", \"oneway\": \"yes\", \"surface\": \"asphalt\"}, \"type\": \"Feature\"}], \"type\": \"FeatureCollection\"}\n",
      "C'est une mauvaise ou bonne route !\n",
      "[['@lon', '@lat'], ['2.3591473', '48.8970251']]\n",
      "Nodes :  [5240597744]\n",
      "Edges :  [544727632]\n",
      "{\"features\": [{\"geometry\": {\"coordinates\": [], \"type\": \"LineString\"}, \"id\": 544727632, \"properties\": {\"highway\": \"primary\", \"lanes\": \"3\", \"lit\": \"yes\", \"maxspeed\": \"30\", \"name\": \"Rue de la Chapelle\", \"oneway\": \"yes\", \"surface\": \"asphalt\"}, \"type\": \"Feature\"}], \"type\": \"FeatureCollection\"}\n",
      "C'est une mauvaise ou bonne route !\n",
      "[['@lon', '@lat'], ['2.3592362', '48.8966122']]\n",
      "Nodes :  [2526480496, 5199574219]\n",
      "Edges :  [536837280, 542019796]\n",
      "{\"features\": [{\"geometry\": {\"coordinates\": [], \"type\": \"LineString\"}, \"id\": 542019796, \"properties\": {\"busway:right\": \"lane\", \"cycleway:right\": \"share_busway\", \"cycleway:temporary\": \"yes\", \"highway\": \"primary\", \"lanes\": \"3\", \"lit\": \"yes\", \"maxspeed\": \"30\", \"name\": \"Rue de la Chapelle\", \"oneway\": \"yes\", \"source\": \"cadastre-dgi-fr source : Direction Générale des Impôts - Cadastre. Mise à jour : 2012\", \"surface\": \"asphalt\"}, \"type\": \"Feature\"}], \"type\": \"FeatureCollection\"}\n",
      "C'est une mauvaise ou bonne route !\n",
      "[['@lon', '@lat'], ['2.3592784', '48.8968927']]\n",
      "Nodes :  [2829369678]\n",
      "Edges :  [542019794]\n",
      "{\"features\": [{\"geometry\": {\"coordinates\": [], \"type\": \"LineString\"}, \"id\": 542019794, \"properties\": {\"busway:right\": \"lane\", \"cycleway:right\": \"share_busway\", \"cycleway:temporary\": \"yes\", \"highway\": \"primary\", \"lanes\": \"3\", \"lit\": \"yes\", \"maxspeed\": \"30\", \"name\": \"Rue de la Chapelle\", \"oneway\": \"yes\", \"source\": \"cadastre-dgi-fr source : Direction Générale des Impôts - Cadastre. Mise à jour : 2012\", \"surface\": \"asphalt\"}, \"type\": \"Feature\"}], \"type\": \"FeatureCollection\"}\n",
      "C'est une mauvaise ou bonne route !\n",
      "[['@lon', '@lat'], ['2.3592932', '48.8969904']]\n",
      "Nodes :  [6885934746]\n",
      "Edges :  [542019794]\n",
      "{\"features\": [{\"geometry\": {\"coordinates\": [], \"type\": \"LineString\"}, \"id\": 542019794, \"properties\": {\"busway:right\": \"lane\", \"cycleway:right\": \"share_busway\", \"cycleway:temporary\": \"yes\", \"highway\": \"primary\", \"lanes\": \"3\", \"lit\": \"yes\", \"maxspeed\": \"30\", \"name\": \"Rue de la Chapelle\", \"oneway\": \"yes\", \"source\": \"cadastre-dgi-fr source : Direction Générale des Impôts - Cadastre. Mise à jour : 2012\", \"surface\": \"asphalt\"}, \"type\": \"Feature\"}], \"type\": \"FeatureCollection\"}\n",
      "C'est une mauvaise ou bonne route !\n",
      "[['@lon', '@lat'], ['2.3592977', '48.8970295']]\n",
      "Nodes :  [5240597749]\n",
      "Edges :  [542019794]\n",
      "{\"features\": [{\"geometry\": {\"coordinates\": [], \"type\": \"LineString\"}, \"id\": 542019794, \"properties\": {\"busway:right\": \"lane\", \"cycleway:right\": \"share_busway\", \"cycleway:temporary\": \"yes\", \"highway\": \"primary\", \"lanes\": \"3\", \"lit\": \"yes\", \"maxspeed\": \"30\", \"name\": \"Rue de la Chapelle\", \"oneway\": \"yes\", \"source\": \"cadastre-dgi-fr source : Direction Générale des Impôts - Cadastre. Mise à jour : 2012\", \"surface\": \"asphalt\"}, \"type\": \"Feature\"}], \"type\": \"FeatureCollection\"}\n",
      "C'est une mauvaise ou bonne route !\n",
      "[['@lon', '@lat'], ['2.3592927', '48.8971100']]\n",
      "Nodes :  [5240597745, 5915269269, 1762073410]\n",
      "Edges :  [164588919, 245453106, 542019795]\n",
      "{\"features\": [{\"geometry\": {\"coordinates\": [], \"type\": \"LineString\"}, \"id\": 542019795, \"properties\": {\"highway\": \"residential\", \"maxspeed\": \"30\", \"name\": \"Rue du Pré\"}, \"type\": \"Feature\"}], \"type\": \"FeatureCollection\"}\n",
      "C'est une mauvaise ou bonne route !\n"
     ]
    }
   ],
   "source": [
    "current_node = 5240597749\n",
    "unwanted_num = {-1}\n",
    "\n",
    "for i in range(50):\n",
    "    nodes, edges = get_neighborhood_at(current_node)\n",
    "\n",
    "    print('Nodes : ', nodes)\n",
    "    print('Edges : ', edges)\n",
    "\n",
    "    current_node = nodes[-1]\n",
    "    get_edge_from_id(edges[-1])"
   ]
  },
  {
   "cell_type": "code",
   "execution_count": 21,
   "metadata": {},
   "outputs": [],
   "source": [
    "def get_graph_at(nodeId: int, surface: int):\n",
    "    lon, lat = get_node_pos_from_id(nodeId)\n",
    "\n",
    "    graph = ox.graph_from_point((lon, lat), dist=surface, simplify=True, custom_filter = '[highway][highway != \"service\"][highway != \"footway\"][highway != \"motorway\"][highway != \"motorway_link\"][bicycle != \"no\"][highway != \"steps\"][highway != \"busway\"][highway != \"pedestrian\"]')\n",
    "\n",
    "    return graph"
   ]
  },
  {
   "cell_type": "code",
   "execution_count": 5,
   "metadata": {},
   "outputs": [],
   "source": [
    "def is_edge_cycleway(edgeInfo):\n",
    "    props = edgeInfo[0]['properties']\n",
    "    highway = props['highway']\n",
    "\n",
    "    if 'bicycle' in props:\n",
    "        if props['bicycle'] == 'designated' or props['bicycle']  == 'yes':\n",
    "            return True\n",
    "\n",
    "    if highway == 'cycleway':\n",
    "        return True\n",
    "\n",
    "    return False\n",
    "\n",
    "def is_edge_shared_cycleway(edgeInfo):\n",
    "    props = edgeInfo[0]['properties']\n",
    "\n",
    "    if 'cycleway:right' in props:\n",
    "        return True\n",
    "\n",
    "    return False\n",
    "\n",
    "def is_segregated(edgeInfo):\n",
    "    props = edgeInfo[0]['properties']\n",
    "\n",
    "    if 'segregated' in props:\n",
    "        if props['segregated'] == 'yes':\n",
    "            return True\n",
    "\n",
    "    return False\n",
    "\n",
    "def get_edge_speed(edgeInfo):\n",
    "    props = edgeInfo[0]['properties']\n",
    "\n",
    "    if 'maxspeed' in props:\n",
    "        return props['maxspeed']\n",
    "    \n",
    "    return None\n",
    "\n",
    "def get_edge_from_id(edgeId: int, api):\n",
    "    edgeInfo = api.get(f'way(id:{edgeId});')\n",
    "    \n",
    "    isCycleway = is_edge_cycleway(edgeInfo)\n",
    "    maxSpeed = get_edge_speed(edgeInfo)\n",
    "\n",
    "    props = edgeInfo[0]['properties']\n",
    "    highway = props['highway']\n",
    "\n",
    "    if highway == 'residential':\n",
    "        return [1, 0, 0, 0]\n",
    "    \n",
    "    if isCycleway:\n",
    "        if is_segregated(edgeInfo):\n",
    "            return [1, 0, 0, 0]\n",
    "        else:\n",
    "            return [1, 1, 0, 0]\n",
    "    elif maxSpeed != None and int(maxSpeed) <= 50:\n",
    "        if is_edge_shared_cycleway(edgeInfo):\n",
    "            return [1, 1, 0, 0]\n",
    "        else:\n",
    "            return [1, 1, 1, 0]\n",
    "    else:\n",
    "        return [1, 1, 1, 1]"
   ]
  },
  {
   "attachments": {},
   "cell_type": "markdown",
   "metadata": {},
   "source": [
    "# Convertir le graphe osmnx/pickle avec les bons poids."
   ]
  },
  {
   "cell_type": "code",
   "execution_count": 6,
   "metadata": {},
   "outputs": [],
   "source": [
    "import pickle\n",
    "import networkx as nx\n",
    "from overpass import API"
   ]
  },
  {
   "cell_type": "code",
   "execution_count": 7,
   "metadata": {},
   "outputs": [],
   "source": [
    "graph = ox.graph_from_place(\"Paris\", custom_filter = '[highway][highway != \"service\"][highway != \"footway\"][highway != \"motorway\"][highway != \"motorway_link\"][bicycle != \"no\"][highway != \"steps\"][highway != \"busway\"][highway != \"pedestrian\"]')"
   ]
  },
  {
   "cell_type": "code",
   "execution_count": 21,
   "metadata": {},
   "outputs": [
    {
     "name": "stdout",
     "output_type": "stream",
     "text": [
      "Graph with 13562 nodes and 21633 edges\n"
     ]
    }
   ],
   "source": [
    "import pickle\n",
    "\n",
    "# save graph object t  o file\n",
    "graph = pickle.load(open('paris_graph_with_weights.pickle', 'rb'))\n",
    "\n",
    "print(graph)"
   ]
  },
  {
   "cell_type": "code",
   "execution_count": 5,
   "metadata": {},
   "outputs": [
    {
     "ename": "NameError",
     "evalue": "name 'json' is not defined",
     "output_type": "error",
     "traceback": [
      "\u001b[1;31m---------------------------------------------------------------------------\u001b[0m",
      "\u001b[1;31mNameError\u001b[0m                                 Traceback (most recent call last)",
      "Cell \u001b[1;32mIn[5], line 10\u001b[0m\n\u001b[0;32m      4\u001b[0m     query \u001b[39m=\u001b[39m json\u001b[39m.\u001b[39mloads(urlopen(url)\u001b[39m.\u001b[39mread())\n\u001b[0;32m      6\u001b[0m     \u001b[39mreturn\u001b[39;00m [query[\u001b[39m'\u001b[39m\u001b[39mfeatures\u001b[39m\u001b[39m'\u001b[39m][\u001b[39m0\u001b[39m][\u001b[39m'\u001b[39m\u001b[39mgeometry\u001b[39m\u001b[39m'\u001b[39m][\u001b[39m'\u001b[39m\u001b[39mcoordinates\u001b[39m\u001b[39m'\u001b[39m][\u001b[39m0\u001b[39m], query[\u001b[39m'\u001b[39m\u001b[39mfeatures\u001b[39m\u001b[39m'\u001b[39m][\u001b[39m0\u001b[39m][\u001b[39m'\u001b[39m\u001b[39mgeometry\u001b[39m\u001b[39m'\u001b[39m][\u001b[39m'\u001b[39m\u001b[39mcoordinates\u001b[39m\u001b[39m'\u001b[39m][\u001b[39m1\u001b[39m]]\n\u001b[1;32m---> 10\u001b[0m \u001b[39mprint\u001b[39m(\u001b[39mf\u001b[39m\u001b[39m\"\u001b[39m\u001b[39mPos = \u001b[39m\u001b[39m{\u001b[39;00mget_pos_from_street(\u001b[39m'\u001b[39m\u001b[39m93 Rue de la Chapelle\u001b[39m\u001b[39m'\u001b[39m,\u001b[39m \u001b[39m\u001b[39m'\u001b[39m\u001b[39mParis\u001b[39m\u001b[39m'\u001b[39m)\u001b[39m}\u001b[39;00m\u001b[39m\"\u001b[39m)\n",
      "Cell \u001b[1;32mIn[5], line 4\u001b[0m, in \u001b[0;36mget_pos_from_street\u001b[1;34m(name, city)\u001b[0m\n\u001b[0;32m      2\u001b[0m strForQuery \u001b[39m=\u001b[39m name\u001b[39m.\u001b[39mreplace(\u001b[39m'\u001b[39m\u001b[39m \u001b[39m\u001b[39m'\u001b[39m, \u001b[39m'\u001b[39m\u001b[39m+\u001b[39m\u001b[39m'\u001b[39m)\n\u001b[0;32m      3\u001b[0m url \u001b[39m=\u001b[39m \u001b[39m'\u001b[39m\u001b[39mhttps://nominatim.openstreetmap.org/search?q=\u001b[39m\u001b[39m'\u001b[39m \u001b[39m+\u001b[39m strForQuery \u001b[39m+\u001b[39m \u001b[39mf\u001b[39m\u001b[39m'\u001b[39m\u001b[39m%2C+\u001b[39m\u001b[39m{\u001b[39;00mcity\u001b[39m}\u001b[39;00m\u001b[39m&format=geojson\u001b[39m\u001b[39m'\u001b[39m\n\u001b[1;32m----> 4\u001b[0m query \u001b[39m=\u001b[39m json\u001b[39m.\u001b[39mloads(urlopen(url)\u001b[39m.\u001b[39mread())\n\u001b[0;32m      6\u001b[0m \u001b[39mreturn\u001b[39;00m [query[\u001b[39m'\u001b[39m\u001b[39mfeatures\u001b[39m\u001b[39m'\u001b[39m][\u001b[39m0\u001b[39m][\u001b[39m'\u001b[39m\u001b[39mgeometry\u001b[39m\u001b[39m'\u001b[39m][\u001b[39m'\u001b[39m\u001b[39mcoordinates\u001b[39m\u001b[39m'\u001b[39m][\u001b[39m0\u001b[39m], query[\u001b[39m'\u001b[39m\u001b[39mfeatures\u001b[39m\u001b[39m'\u001b[39m][\u001b[39m0\u001b[39m][\u001b[39m'\u001b[39m\u001b[39mgeometry\u001b[39m\u001b[39m'\u001b[39m][\u001b[39m'\u001b[39m\u001b[39mcoordinates\u001b[39m\u001b[39m'\u001b[39m][\u001b[39m1\u001b[39m]]\n",
      "\u001b[1;31mNameError\u001b[0m: name 'json' is not defined"
     ]
    }
   ],
   "source": [
    "def get_pos_from_street(name: str, city:str):\n",
    "    strForQuery = name.replace(' ', '+')\n",
    "    url = 'https://nominatim.openstreetmap.org/search?q=' + strForQuery + f'%2C+{city}&format=geojson'\n",
    "    query = json.loads(urlopen(url).read())\n",
    "    \n",
    "    return [query['features'][0]['geometry']['coordinates'][0], query['features'][0]['geometry']['coordinates'][1]]\n",
    "\n",
    "\n",
    "\n",
    "print(f\"Pos = {get_pos_from_street('93 Rue de la Chapelle', 'Paris')}\")"
   ]
  },
  {
   "cell_type": "code",
   "execution_count": 11,
   "metadata": {},
   "outputs": [],
   "source": [
    "import pandas as pd\n",
    "from scipy.spatial.distance import cdist"
   ]
  },
  {
   "cell_type": "code",
   "execution_count": 12,
   "metadata": {},
   "outputs": [],
   "source": [
    "df = pd.DataFrame(index=graph.nodes, columns=['lon','lat'])\n",
    "\n",
    "for node in graph.nodes:\n",
    "    df.loc[node]['lon'] = graph.nodes[node]['lon']\n",
    "    df.loc[node]['lat'] = graph.nodes[node]['lat']\n",
    "\n",
    "df['lon'] = df['lon'].astype(float)\n",
    "df['lat'] = df['lat'].astype(float)"
   ]
  },
  {
   "cell_type": "code",
   "execution_count": 13,
   "metadata": {},
   "outputs": [],
   "source": [
    "import pickle\n",
    "\n",
    "# save graph object t  o file\n",
    "pickle.dump(df, open('node_pos.pickle', 'wb'))"
   ]
  },
  {
   "cell_type": "code",
   "execution_count": 14,
   "metadata": {},
   "outputs": [],
   "source": [
    "start_pos = get_pos_from_street('93 Rue de la Chapelle', 'Paris')\n",
    "end_pos = get_pos_from_street('2 Boulevard de Clichy', 'Paris')\n",
    "\n",
    "distances_from_start = cdist(df[['lat', 'lon']], [start_pos])\n",
    "distances_from_end = cdist(df[['lat', 'lon']], [end_pos])\n",
    "\n",
    "start_node = df.index[distances_from_start.argmin()]\n",
    "end_node = df.index[distances_from_end.argmin()]"
   ]
  },
  {
   "cell_type": "code",
   "execution_count": 15,
   "metadata": {},
   "outputs": [
    {
     "name": "stdout",
     "output_type": "stream",
     "text": [
      "2078486567 2295302569\n"
     ]
    }
   ],
   "source": [
    "print(start_node, end_node)"
   ]
  },
  {
   "cell_type": "code",
   "execution_count": 8,
   "metadata": {},
   "outputs": [],
   "source": [
    "def get_pos_at(osm_id, api):\n",
    "    pos = api.get(f'node(id:{osm_id});', responseformat=\"csv(::lon,::lat)\")\n",
    "\n",
    "    return pos[1]"
   ]
  },
  {
   "cell_type": "code",
   "execution_count": 9,
   "metadata": {},
   "outputs": [],
   "source": [
    "import numpy as np"
   ]
  },
  {
   "cell_type": "code",
   "execution_count": 13,
   "metadata": {},
   "outputs": [
    {
     "name": "stdout",
     "output_type": "stream",
     "text": [
      "Arête n°1 en cours de génération...\n",
      "[1, 0, 0, 0]\n"
     ]
    }
   ],
   "source": [
    "G = nx.Graph()\n",
    "already_exists = []\n",
    "\n",
    "api = API()\n",
    "\n",
    "i = 0\n",
    "\n",
    "for edge in graph.edges:\n",
    "    try:\n",
    "        i += 1\n",
    "        print(f'Arête n°{i} en cours de génération...')\n",
    "        n1 = edge[0]\n",
    "        n2 = edge[1]\n",
    "        \n",
    "        edgeId = graph[n1][n2][0]['osmid']\n",
    "        #Ajout des noeuds.\n",
    "        pos = get_pos_at(n1, api)\n",
    "        G.add_node(n1, lon=pos[1], lat=pos[0])\n",
    "        pos = get_pos_at(n2, api)\n",
    "        G.add_node(n2, lon=pos[1], lat=pos[0])\n",
    "\n",
    "        #Ajout de l'arête en question dans le graphe.\n",
    "        if isinstance(edgeId, list):\n",
    "            weights = np.array(get_edge_from_id(edgeId[0], api))\n",
    "            G.add_edge(n1, n2, weight=weights * graph[n1][n2][0]['length'])\n",
    "        else:\n",
    "            edge = get_edge_from_id(edgeId, api)\n",
    "            weights = np.array(edge)\n",
    "            print(edge)\n",
    "            G.add_edge(n1, n2, weight=weights * graph[n1][n2][0]['length'])\n",
    "        \n",
    "        break\n",
    "    except:\n",
    "        print('Erreur avec : ', graph[n1][n2][0])\n",
    "        break"
   ]
  },
  {
   "cell_type": "code",
   "execution_count": 19,
   "metadata": {},
   "outputs": [
    {
     "name": "stdout",
     "output_type": "stream",
     "text": [
      "[['@lon', '@lat'], ['2.4108343', '48.8634834']]\n",
      "{'lon': '48.8634834', 'lat': '2.4108343'}\n"
     ]
    }
   ],
   "source": [
    "pos = api.get(f'node(id:{268675130});', responseformat=\"csv(::lon,::lat)\")\n",
    "print(pos)\n",
    "print(graph.nodes[268675130])"
   ]
  },
  {
   "cell_type": "code",
   "execution_count": 10,
   "metadata": {},
   "outputs": [
    {
     "name": "stdout",
     "output_type": "stream",
     "text": [
      "Graph with 13562 nodes and 21633 edges\n"
     ]
    }
   ],
   "source": [
    "print(G)"
   ]
  },
  {
   "cell_type": "code",
   "execution_count": 1,
   "metadata": {},
   "outputs": [],
   "source": [
    "import pickle\n",
    "\n",
    "# save graph object t  o file\n",
    "G = pickle.load(open('paris_graph_with_weights.pickle', 'rb'))"
   ]
  },
  {
   "cell_type": "code",
   "execution_count": 4,
   "metadata": {},
   "outputs": [
    {
     "name": "stdout",
     "output_type": "stream",
     "text": [
      "{17348292: {'weight': array([19.831, 19.831, 19.831,  0.   ])}, 10068668322: {'weight': array([36.487, 36.487, 36.487,  0.   ])}, 10068668320: {'weight': array([40.277, 40.277,  0.   ,  0.   ])}, 277614019: {'weight': array([73.893, 73.893,  0.   ,  0.   ])}}\n"
     ]
    }
   ],
   "source": [
    "print(G[17348293])"
   ]
  },
  {
   "cell_type": "code",
   "execution_count": null,
   "metadata": {},
   "outputs": [],
   "source": []
  },
  {
   "cell_type": "code",
   "execution_count": null,
   "metadata": {},
   "outputs": [],
   "source": []
  }
 ],
 "metadata": {
  "kernelspec": {
   "display_name": "projet_androide",
   "language": "python",
   "name": "python3"
  },
  "language_info": {
   "codemirror_mode": {
    "name": "ipython",
    "version": 3
   },
   "file_extension": ".py",
   "mimetype": "text/x-python",
   "name": "python",
   "nbconvert_exporter": "python",
   "pygments_lexer": "ipython3",
   "version": "3.8.16"
  },
  "orig_nbformat": 4
 },
 "nbformat": 4,
 "nbformat_minor": 2
}
