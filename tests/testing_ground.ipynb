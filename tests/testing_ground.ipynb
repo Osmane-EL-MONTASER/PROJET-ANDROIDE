{
 "cells": [
  {
   "cell_type": "code",
   "execution_count": 1,
   "metadata": {},
   "outputs": [],
   "source": [
    "%load_ext autoreload\n",
    "%autoreload 2\n",
    "\n",
    "from dijkstra import multi_criteria_dijkstra\n",
    "import networkx as nx\n",
    "import heapq\n",
    "import numpy as np"
   ]
  },
  {
   "cell_type": "code",
   "execution_count": 91,
   "metadata": {},
   "outputs": [],
   "source": [
    "G = nx.DiGraph()\n",
    "# definition des noeuds\n",
    "G.add_node(1,label='A',heuristique=0.0)\n",
    "G.add_node(2,label='B',heuristique=0.0)\n",
    "G.add_node(3,label='C',heuristique=0.0)\n",
    "G.add_node(4,label='D',heuristique=0.0)\n",
    "G.add_node(5,label='E',heuristique=0.0)\n",
    "G.add_node(6,label='F',heuristique=0.0)\n",
    "# definition des aretes\n",
    "G.add_edge(1,2,weight=[10.0,4.0,2.0,10.0])\n",
    "G.add_edge(1,3,weight=[6.0,1.0,18.0,10.0])\n",
    "G.add_edge(3,2,weight=[6.0,2.0,10.0,10.0])\n",
    "G.add_edge(2,4,weight=[0.0,10.0,12.0,1.0])\n",
    "G.add_edge(4,6,weight=[10.0,1.0,1.0,1.0])\n",
    "G.add_edge(4,3,weight=[4.0,0.0,0.0,3.0])\n",
    "G.add_edge(3,5,weight=[1.0,4.0,8.0,1.0])\n",
    "G.add_edge(5,4,weight=[5.0,1.0,3.0,7.0])\n",
    "G.add_edge(5,6,weight=[6.0,0.0,0.0,6.0])"
   ]
  },
  {
   "cell_type": "code",
   "execution_count": 92,
   "metadata": {},
   "outputs": [
    {
     "data": {
      "text/plain": [
       "0.0"
      ]
     },
     "execution_count": 92,
     "metadata": {},
     "output_type": "execute_result"
    }
   ],
   "source": [
    "G.nodes[2]['heuristique']"
   ]
  },
  {
   "cell_type": "code",
   "execution_count": 93,
   "metadata": {},
   "outputs": [],
   "source": [
    "algo = multi_criteria_dijkstra(G, 4)"
   ]
  },
  {
   "cell_type": "code",
   "execution_count": 94,
   "metadata": {},
   "outputs": [
    {
     "data": {
      "text/plain": [
       "{1: rec.array([(list([0, 0, 0, 0]), -1, 1, -1, 0)],\n",
       "           dtype=[('weights', 'O'), ('prevnode', '<i4'), ('node', '<i4'), ('previd', '<i4'), ('id', '<i4')]),\n",
       " 2: rec.array([(list([10.0, 4.0, 2.0, 10.0]), 1, 2, 0, 1),\n",
       "            (list([12.0, 3.0, 28.0, 20.0]), 3, 2, 2, 3)],\n",
       "           dtype=[('weights', 'O'), ('prevnode', '<i4'), ('node', '<i4'), ('previd', '<i4'), ('id', '<i4')]),\n",
       " 3: rec.array([(list([6.0, 1.0, 18.0, 10.0]), 1, 3, 0, 2),\n",
       "            (list([14.0, 14.0, 14.0, 14.0]), 4, 3, 7, 9)],\n",
       "           dtype=[('weights', 'O'), ('prevnode', '<i4'), ('node', '<i4'), ('previd', '<i4'), ('id', '<i4')]),\n",
       " 5: rec.array([(list([7.0, 5.0, 26.0, 11.0]), 3, 5, 2,  4),\n",
       "            (list([15.0, 18.0, 22.0, 15.0]), 3, 5, 9, 14)],\n",
       "           dtype=[('weights', 'O'), ('prevnode', '<i4'), ('node', '<i4'), ('previd', '<i4'), ('id', '<i4')]),\n",
       " 4: rec.array([(list([12.0, 6.0, 29.0, 18.0]), 5, 4, 4, 5),\n",
       "            (list([10.0, 14.0, 14.0, 11.0]), 2, 4, 1, 7)],\n",
       "           dtype=[('weights', 'O'), ('prevnode', '<i4'), ('node', '<i4'), ('previd', '<i4'), ('id', '<i4')]),\n",
       " 6: rec.array([(list([13.0, 5.0, 26.0, 17.0]), 5, 6, 4, 6),\n",
       "            (list([20.0, 15.0, 15.0, 12.0]), 4, 6, 7, 8)],\n",
       "           dtype=[('weights', 'O'), ('prevnode', '<i4'), ('node', '<i4'), ('previd', '<i4'), ('id', '<i4')])}"
      ]
     },
     "execution_count": 94,
     "metadata": {},
     "output_type": "execute_result"
    }
   ],
   "source": [
    "algo.dijkstra(G,1,6)"
   ]
  },
  {
   "cell_type": "code",
   "execution_count": 95,
   "metadata": {},
   "outputs": [
    {
     "name": "stdout",
     "output_type": "stream",
     "text": [
      "{1: rec.array([(list([0.0, 0.0, 0.0, 0.0]), -1, 1, -1, 0)],\n",
      "          dtype=[('weights', 'O'), ('prevnode', '<i4'), ('node', '<i4'), ('previd', '<i4'), ('id', '<i4')]), 2: rec.array([(list([10.0, 4.0, 2.0, 10.0]), 1, 2, 0, 1),\n",
      "           (list([12.0, 3.0, 28.0, 20.0]), 3, 2, 2, 3)],\n",
      "          dtype=[('weights', 'O'), ('prevnode', '<i4'), ('node', '<i4'), ('previd', '<i4'), ('id', '<i4')]), 3: rec.array([(list([6.0, 1.0, 18.0, 10.0]), 1, 3, 0, 2),\n",
      "           (list([14.0, 14.0, 14.0, 14.0]), 4, 3, 7, 9)],\n",
      "          dtype=[('weights', 'O'), ('prevnode', '<i4'), ('node', '<i4'), ('previd', '<i4'), ('id', '<i4')]), 5: rec.array([(list([7.0, 5.0, 26.0, 11.0]), 3, 5, 2,  4),\n",
      "           (list([15.0, 18.0, 22.0, 15.0]), 3, 5, 9, 14)],\n",
      "          dtype=[('weights', 'O'), ('prevnode', '<i4'), ('node', '<i4'), ('previd', '<i4'), ('id', '<i4')]), 4: rec.array([(list([12.0, 6.0, 29.0, 18.0]), 5, 4, 4, 5),\n",
      "           (list([10.0, 14.0, 14.0, 11.0]), 2, 4, 1, 7)],\n",
      "          dtype=[('weights', 'O'), ('prevnode', '<i4'), ('node', '<i4'), ('previd', '<i4'), ('id', '<i4')]), 6: rec.array([(list([13.0, 5.0, 26.0, 17.0]), 5, 6, 4, 6),\n",
      "           (list([20.0, 15.0, 15.0, 12.0]), 4, 6, 7, 8)],\n",
      "          dtype=[('weights', 'O'), ('prevnode', '<i4'), ('node', '<i4'), ('previd', '<i4'), ('id', '<i4')])}\n",
      "[(list([12.0, 6.0, 29.0, 18.0]), 5, 4, 4, 5)\n",
      " (list([10.0, 14.0, 14.0, 11.0]), 2, 4, 1, 7)]\n"
     ]
    }
   ],
   "source": [
    "print(algo.a_star(G,1,6))\n",
    "\n",
    "print(algo.a_star(G,1,6)[4])"
   ]
  },
  {
   "cell_type": "code",
   "execution_count": 126,
   "metadata": {},
   "outputs": [],
   "source": [
    "G = nx.DiGraph()\n",
    "# definition des noeuds\n",
    "G.add_node(1,label='A',heuristique=0.0)\n",
    "G.add_node(2,label='B',heuristique=0.0)\n",
    "G.add_node(3,label='C',heuristique=0.0)\n",
    "G.add_node(4,label='D',heuristique=0.0)\n",
    "G.add_node(5,label='E',heuristique=0.0)\n",
    "G.add_node(6,label='F',heuristique=0.0)\n",
    "# definition des aretes\n",
    "G.add_edge(1,2,weight=[10.0,4.0,2.0,10.0])\n",
    "G.add_edge(1,3,weight=[6.0,1.0,18.0,10.0])\n",
    "G.add_edge(3,2,weight=[6.0,2.0,10.0,10.0])\n",
    "G.add_edge(2,4,weight=[0.0,10.0,12.0,1.0])\n",
    "G.add_edge(4,6,weight=[10.0,1.0,1.0,1.0])\n",
    "G.add_edge(4,3,weight=[4.0,0.0,0.0,3.0])\n",
    "G.add_edge(3,5,weight=[1.0,4.0,8.0,1.0])\n",
    "G.add_edge(5,4,weight=[5.0,1.0,3.0,7.0])\n",
    "G.add_edge(5,6,weight=[6.0,0.0,0.0,6.0])"
   ]
  },
  {
   "cell_type": "code",
   "execution_count": 125,
   "metadata": {},
   "outputs": [
    {
     "name": "stdout",
     "output_type": "stream",
     "text": [
      "[[0.0, 0.0, 0.0, 0.0], ([0.0, 0.0, 0.0, 0.0], -1, 1, -1, 0)]\n",
      "[[6.0, 1.0, 18.0, 10.0], (array([ 6.,  1., 18., 10.]), 1, 3, 0, 2)]\n",
      "[[7.0, 5.0, 26.0, 11.0], (array([ 7.,  5., 26., 11.]), 3, 5, 2, 4)]\n",
      "[[12.0, 6.0, 29.0, 18.0], (array([12.,  6., 29., 18.]), 5, 4, 4, 5)]\n",
      "[[13.0, 5.0, 26.0, 17.0], (array([13.,  5., 26., 17.]), 5, 6, 4, 6)]\n",
      "[[30.0, 24.0, 22.0, 30.0], (array([10.,  4.,  2., 10.]), 1, 2, 0, 1)]\n",
      "[[32.0, 23.0, 48.0, 40.0], (array([12.,  3., 28., 20.]), 3, 2, 2, 3)]\n",
      "{1: rec.array([(list([0.0, 0.0, 0.0, 0.0]), -1, 1, -1, 0)],\n",
      "          dtype=[('weights', 'O'), ('prevnode', '<i4'), ('node', '<i4'), ('previd', '<i4'), ('id', '<i4')]), 2: rec.array([(array([10.,  4.,  2., 10.]), 1, 2, 0, 1),\n",
      "           (array([12.,  3., 28., 20.]), 3, 2, 2, 3)],\n",
      "          dtype=[('weights', 'O'), ('prevnode', '<i4'), ('node', '<i4'), ('previd', '<i4'), ('id', '<i4')]), 3: rec.array([(array([ 6.,  1., 18., 10.]), 1, 3, 0, 2)],\n",
      "          dtype=[('weights', 'O'), ('prevnode', '<i4'), ('node', '<i4'), ('previd', '<i4'), ('id', '<i4')]), 5: rec.array([(array([ 7.,  5., 26., 11.]), 3, 5, 2, 4)],\n",
      "          dtype=[('weights', 'O'), ('prevnode', '<i4'), ('node', '<i4'), ('previd', '<i4'), ('id', '<i4')]), 4: rec.array([(array([12.,  6., 29., 18.]), 5, 4, 4, 5)],\n",
      "          dtype=[('weights', 'O'), ('prevnode', '<i4'), ('node', '<i4'), ('previd', '<i4'), ('id', '<i4')]), 6: rec.array([(array([13.,  5., 26., 17.]), 5, 6, 4, 6)],\n",
      "          dtype=[('weights', 'O'), ('prevnode', '<i4'), ('node', '<i4'), ('previd', '<i4'), ('id', '<i4')])}\n"
     ]
    }
   ],
   "source": [
    "print(algo.a_star(G,1,6))"
   ]
  },
  {
   "cell_type": "code",
   "execution_count": 26,
   "metadata": {},
   "outputs": [
    {
     "name": "stdout",
     "output_type": "stream",
     "text": [
      "[[-1, -1, -1, -1], [1, 0]]\n",
      "[[0, 0, 0, 0], [1, 0]]\n"
     ]
    }
   ],
   "source": [
    "h = [[[0 for i in range(4)],[1,0]]]\n",
    "heapq.heappush(h, [[-1 for i in range(4)],[1,0]])\n",
    "print(heapq.heappop(h))\n",
    "print(heapq.heappop(h))"
   ]
  },
  {
   "cell_type": "code",
   "execution_count": 27,
   "metadata": {},
   "outputs": [
    {
     "name": "stdout",
     "output_type": "stream",
     "text": [
      "[[[0, 0, 0, 0], [1, 1]]]\n"
     ]
    }
   ],
   "source": [
    "h = [[[0 for i in range(4)],[1,1]]]\n",
    "print(h)"
   ]
  },
  {
   "cell_type": "code",
   "execution_count": 28,
   "metadata": {},
   "outputs": [
    {
     "name": "stdout",
     "output_type": "stream",
     "text": [
      "[[list([0, 0, 0, 0]) list([1, 1])]]\n",
      "[list([1, 1])]\n",
      "[list([1, 1])]\n"
     ]
    }
   ],
   "source": [
    "test = np.asarray(h, dtype=object)\n",
    "print(test)\n",
    "print(test[:,1])\n",
    "print(test[:,1])"
   ]
  },
  {
   "cell_type": "code",
   "execution_count": 29,
   "metadata": {},
   "outputs": [
    {
     "name": "stdout",
     "output_type": "stream",
     "text": [
      "[(None, 0, 0, 0, 0)]\n",
      "[(list([0, 0, 0, 0]), -1, 1, -1, 0) (list([1, 1, 1, 1]),  1, 1,  1, 1)]\n",
      "[[0, 0, 0, 0], [1, 1, 1, 1]]\n",
      "<class 'numpy.ndarray'>\n"
     ]
    }
   ],
   "source": [
    "cost_dtype = np.dtype([('weights', list), ('prevnode', int), ('node', int), ('previd', int), ('id', int)])\n",
    "test = np.recarray((1,), dtype=cost_dtype)\n",
    "print(test)\n",
    "test[0] = ([0 for i in range(4)], -1, 1, -1, 0)\n",
    "test.resize(test.shape[0] + 1)\n",
    "test[-1] = ([1 for i in range(4)], 1, 1, 1,1)\n",
    "print(test)\n",
    "print(test.weights.tolist())\n",
    "print(type(test.weights))"
   ]
  },
  {
   "cell_type": "code",
   "execution_count": 67,
   "metadata": {},
   "outputs": [
    {
     "name": "stdout",
     "output_type": "stream",
     "text": [
      "([100.0, 100.0, 100.0, 100.0], -1, 1, -1, 0)\n",
      "([11.0, 6.0, 23.0, 15.0], 1, 3, 0, 2)\n",
      "([7.0, 5.0, 26.0, 11.0], 3, 5, 2, 4)\n",
      "([12.0, 6.0, 29.0, 18.0], 5, 4, 4, 5)\n",
      "([13.0, 5.0, 26.0, 17.0], 5, 6, 4, 6)\n",
      "([15.0, 9.0, 7.0, 15.0], 1, 2, 0, 1)\n",
      "([10.0, 14.0, 14.0, 11.0], 2, 4, 1, 9)\n",
      "([17.0, 8.0, 33.0, 25.0], 3, 2, 2, 3)\n",
      "([19.0, 19.0, 19.0, 19.0], 4, 3, 9, 11)\n",
      "([15.0, 18.0, 22.0, 15.0], 3, 5, 11, 14)\n",
      "([20.0, 15.0, 15.0, 12.0], 4, 6, 9, 10)\n"
     ]
    },
    {
     "data": {
      "text/plain": [
       "{1: rec.array([(list([100.0, 100.0, 100.0, 100.0]), -1, 1, -1, 0)],\n",
       "           dtype=[('weights', 'O'), ('prevnode', '<i4'), ('node', '<i4'), ('previd', '<i4'), ('id', '<i4')]),\n",
       " 2: rec.array([(list([15.0, 9.0, 7.0, 15.0]), 1, 2, 0, 1),\n",
       "            (list([17.0, 8.0, 33.0, 25.0]), 3, 2, 2, 3)],\n",
       "           dtype=[('weights', 'O'), ('prevnode', '<i4'), ('node', '<i4'), ('previd', '<i4'), ('id', '<i4')]),\n",
       " 3: rec.array([(list([11.0, 6.0, 23.0, 15.0]), 1, 3, 0,  2),\n",
       "            (list([19.0, 19.0, 19.0, 19.0]), 4, 3, 9, 11)],\n",
       "           dtype=[('weights', 'O'), ('prevnode', '<i4'), ('node', '<i4'), ('previd', '<i4'), ('id', '<i4')]),\n",
       " 5: rec.array([(list([7.0, 5.0, 26.0, 11.0]), 3, 5,  2,  4),\n",
       "            (list([15.0, 18.0, 22.0, 15.0]), 3, 5, 11, 14)],\n",
       "           dtype=[('weights', 'O'), ('prevnode', '<i4'), ('node', '<i4'), ('previd', '<i4'), ('id', '<i4')]),\n",
       " 4: rec.array([(list([12.0, 6.0, 29.0, 18.0]), 5, 4, 4, 5),\n",
       "            (list([10.0, 14.0, 14.0, 11.0]), 2, 4, 1, 9)],\n",
       "           dtype=[('weights', 'O'), ('prevnode', '<i4'), ('node', '<i4'), ('previd', '<i4'), ('id', '<i4')]),\n",
       " 6: rec.array([(list([13.0, 5.0, 26.0, 17.0]), 5, 6, 4,  6),\n",
       "            (list([20.0, 15.0, 15.0, 12.0]), 4, 6, 9, 10)],\n",
       "           dtype=[('weights', 'O'), ('prevnode', '<i4'), ('node', '<i4'), ('previd', '<i4'), ('id', '<i4')])}"
      ]
     },
     "execution_count": 67,
     "metadata": {},
     "output_type": "execute_result"
    }
   ],
   "source": []
  },
  {
   "cell_type": "code",
   "execution_count": 56,
   "metadata": {},
   "outputs": [
    {
     "name": "stdout",
     "output_type": "stream",
     "text": [
      "1 2 {'weight': [10, 4, 2, 10]}\n",
      "1 3 {'weight': [6, 1, 18, 10]}\n"
     ]
    }
   ],
   "source": [
    "for u, v, data in G.edges(1, data = True):\n",
    "    print(u, v, data)"
   ]
  },
  {
   "cell_type": "code",
   "execution_count": null,
   "metadata": {},
   "outputs": [],
   "source": []
  }
 ],
 "metadata": {
  "kernelspec": {
   "display_name": "projet_androide",
   "language": "python",
   "name": "python3"
  },
  "language_info": {
   "codemirror_mode": {
    "name": "ipython",
    "version": 3
   },
   "file_extension": ".py",
   "mimetype": "text/x-python",
   "name": "python",
   "nbconvert_exporter": "python",
   "pygments_lexer": "ipython3",
   "version": "3.8.16"
  },
  "orig_nbformat": 4
 },
 "nbformat": 4,
 "nbformat_minor": 2
}
