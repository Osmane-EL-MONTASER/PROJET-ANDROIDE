{
 "cells": [
  {
   "cell_type": "code",
   "execution_count": 1,
   "metadata": {},
   "outputs": [],
   "source": [
    "%load_ext autoreload\n",
    "%autoreload 2\n",
    "\n",
    "from dijkstra import multi_criteria_dijkstra\n",
    "import networkx as nx\n",
    "import heapq\n",
    "import numpy as np"
   ]
  },
  {
   "cell_type": "code",
   "execution_count": 2,
   "metadata": {},
   "outputs": [],
   "source": [
    "G = nx.DiGraph()\n",
    "# definition des noeuds\n",
    "G.add_node(1,label='A',heuristique=1.0)\n",
    "G.add_node(2,label='B',heuristique=1.0)\n",
    "G.add_node(3,label='C',heuristique=1.0)\n",
    "G.add_node(4,label='D',heuristique=1.0)\n",
    "G.add_node(5,label='E',heuristique=1.0)\n",
    "G.add_node(6,label='F',heuristique=1.0)\n",
    "# definition des aretes\n",
    "G.add_edge(1,2,weight=[10,4,2,10])\n",
    "G.add_edge(1,3,weight=[6,1,18,10])\n",
    "G.add_edge(3,2,weight=[6,2,10,10])\n",
    "G.add_edge(2,4,weight=[0,10,12,1])\n",
    "G.add_edge(4,6,weight=[10,1,1,1])\n",
    "G.add_edge(4,3,weight=[4,0,0,3])\n",
    "G.add_edge(3,5,weight=[1,4,8,1])\n",
    "G.add_edge(5,4,weight=[5,1,3,7])\n",
    "G.add_edge(5,6,weight=[6,0,0,6])"
   ]
  },
  {
   "cell_type": "code",
   "execution_count": 3,
   "metadata": {},
   "outputs": [],
   "source": [
    "algo = multi_criteria_dijkstra(G, 4)"
   ]
  },
  {
   "cell_type": "code",
   "execution_count": 5,
   "metadata": {},
   "outputs": [
    {
     "name": "stdout",
     "output_type": "stream",
     "text": [
      "cout:\n",
      "[0, 0, 0, 0]\n"
     ]
    },
    {
     "ename": "AttributeError",
     "evalue": "'list' object has no attribute 'node'",
     "output_type": "error",
     "traceback": [
      "\u001b[1;31m---------------------------------------------------------------------------\u001b[0m",
      "\u001b[1;31mAttributeError\u001b[0m                            Traceback (most recent call last)",
      "Cell \u001b[1;32mIn[5], line 1\u001b[0m\n\u001b[1;32m----> 1\u001b[0m algo\u001b[39m.\u001b[39;49mdijkstra(G,\u001b[39m1\u001b[39;49m,\u001b[39m6\u001b[39;49m)\n",
      "File \u001b[1;32md:\\Projet ANDROIDE\\PROJET-ANDROIDE\\dijkstra.py:188\u001b[0m, in \u001b[0;36mmulti_criteria_dijkstra.dijkstra\u001b[1;34m(self, G, start, end)\u001b[0m\n\u001b[0;32m    185\u001b[0m         \u001b[39mpass\u001b[39;00m\n\u001b[0;32m    187\u001b[0m \u001b[39m#Visiter tout les voisins du noeud courant\u001b[39;00m\n\u001b[1;32m--> 188\u001b[0m \u001b[39mfor\u001b[39;00m _, v, data \u001b[39min\u001b[39;00m G\u001b[39m.\u001b[39medges(cost\u001b[39m.\u001b[39;49mnode, data \u001b[39m=\u001b[39m \u001b[39mTrue\u001b[39;00m):\n\u001b[0;32m    189\u001b[0m     \u001b[39m#Données des aretes voisines retourné en 3-tuple (u, v, ddict[data])\u001b[39;00m\n\u001b[0;32m    191\u001b[0m     nextweight \u001b[39m=\u001b[39m np\u001b[39m.\u001b[39marray(cost\u001b[39m.\u001b[39mweights) \u001b[39m+\u001b[39m data[\u001b[39m'\u001b[39m\u001b[39mweight\u001b[39m\u001b[39m'\u001b[39m] \u001b[39m#Cout du prochain noeud à visiter\u001b[39;00m\n\u001b[0;32m    192\u001b[0m     nextweight \u001b[39m=\u001b[39m nextweight\u001b[39m.\u001b[39mtolist()\n",
      "\u001b[1;31mAttributeError\u001b[0m: 'list' object has no attribute 'node'"
     ]
    }
   ],
   "source": [
    "algo.dijkstra(G,1,6)"
   ]
  },
  {
   "cell_type": "code",
   "execution_count": 8,
   "metadata": {},
   "outputs": [
    {
     "ename": "TypeError",
     "evalue": "'int' object is not iterable",
     "output_type": "error",
     "traceback": [
      "\u001b[1;31m---------------------------------------------------------------------------\u001b[0m",
      "\u001b[1;31mTypeError\u001b[0m                                 Traceback (most recent call last)",
      "Cell \u001b[1;32mIn[8], line 1\u001b[0m\n\u001b[1;32m----> 1\u001b[0m algo\u001b[39m.\u001b[39;49ma_star(G,\u001b[39m1\u001b[39;49m,\u001b[39m6\u001b[39;49m)\n",
      "File \u001b[1;32md:\\Projet ANDROIDE\\PROJET-ANDROIDE\\dijkstra.py:199\u001b[0m, in \u001b[0;36mmulti_criteria_dijkstra.a_star\u001b[1;34m(self, G, start, end, heuristique)\u001b[0m\n\u001b[0;32m    197\u001b[0m \u001b[39mdef\u001b[39;00m \u001b[39ma_star\u001b[39m(\u001b[39mself\u001b[39m, G: nx\u001b[39m.\u001b[39mGraph, start, end, heuristique\u001b[39m=\u001b[39mheuristique):\n\u001b[0;32m    198\u001b[0m     \u001b[39m# initialisation de la liste open_nodes et du set closed_nodes\u001b[39;00m\n\u001b[1;32m--> 199\u001b[0m     open_nodes \u001b[39m=\u001b[39m \u001b[39mset\u001b[39;49m(start)\n\u001b[0;32m    200\u001b[0m     open_etiquettes \u001b[39m=\u001b[39m [\u001b[39mself\u001b[39m\u001b[39m.\u001b[39mheuristique(G, start, end),start,\u001b[39m0\u001b[39m,([\u001b[39m0\u001b[39m]\u001b[39m*\u001b[39m\u001b[39mself\u001b[39m\u001b[39m.\u001b[39mnb_criteria)]\n\u001b[0;32m    201\u001b[0m     closed_etiquettes \u001b[39m=\u001b[39m {}\n",
      "\u001b[1;31mTypeError\u001b[0m: 'int' object is not iterable"
     ]
    }
   ],
   "source": [
    "{1: [0, 0, 0, 0, 1],\n",
    " 2: array([[10,  4,  2, 10,  1],\n",
    "        [12,  3, 28, 20,  3]]),\n",
    " 3: array([[ 6,  1, 18, 10,  1],\n",
    "        [14, 14, 14, 14,  4]]),\n",
    " 5: array([[ 7,  5, 26, 11,  3],\n",
    "        [15, 18, 22, 15,  3]]),\n",
    " 4: array([[12,  6, 29, 18,  5],\n",
    "        [10, 14, 14, 11,  2],\n",
    "        [12, 13, 40, 21,  2]]),\n",
    " 6: array([[13,  5, 26, 17,  5],\n",
    "        [20, 15, 15, 12,  4],\n",
    "        [22,  7, 30, 19,  4]])}"
   ]
  },
  {
   "cell_type": "code",
   "execution_count": 12,
   "metadata": {},
   "outputs": [
    {
     "name": "stdout",
     "output_type": "stream",
     "text": [
      "[[-1, -1, -1, -1], [1, 0]]\n",
      "[[0, 0, 0, 0], [1, 0]]\n"
     ]
    }
   ],
   "source": [
    "h = [[[0 for i in range(4)],[1,0]]]\n",
    "heapq.heappush(h, [[-1 for i in range(4)],[1,0]])\n",
    "print(heapq.heappop(h))\n",
    "print(heapq.heappop(h))"
   ]
  },
  {
   "cell_type": "code",
   "execution_count": 43,
   "metadata": {},
   "outputs": [
    {
     "name": "stdout",
     "output_type": "stream",
     "text": [
      "[array([list([0, 0, 0, 0]), list([1, 1])], dtype=object)]\n"
     ]
    },
    {
     "name": "stderr",
     "output_type": "stream",
     "text": [
      "C:\\Users\\Hu Tony\\AppData\\Local\\Temp\\ipykernel_2456\\4284906914.py:1: VisibleDeprecationWarning: Creating an ndarray from ragged nested sequences (which is a list-or-tuple of lists-or-tuples-or ndarrays with different lengths or shapes) is deprecated. If you meant to do this, you must specify 'dtype=object' when creating the ndarray.\n",
      "  h = [np.array([[0 for i in range(4)],[1,1]])]\n"
     ]
    }
   ],
   "source": [
    "h = [[[0 for i in range(4)],[1,1]]]\n",
    "print(h)"
   ]
  },
  {
   "cell_type": "code",
   "execution_count": 44,
   "metadata": {},
   "outputs": [
    {
     "name": "stdout",
     "output_type": "stream",
     "text": [
      "[[list([0, 0, 0, 0]) list([1, 1])]]\n",
      "[list([1, 1])]\n",
      "[list([1, 1])]\n"
     ]
    }
   ],
   "source": [
    "test = np.asarray(h, dtype=object)\n",
    "print(test)\n",
    "print(test[:,1])\n",
    "print(test[:,1])"
   ]
  },
  {
   "cell_type": "code",
   "execution_count": 42,
   "metadata": {},
   "outputs": [
    {
     "name": "stdout",
     "output_type": "stream",
     "text": [
      "[(None, 0, 0, 0, 0)]\n",
      "[(list([0, 0, 0, 0]), -1, 1, -1, 0) (list([1, 1, 1, 1]),  1, 1,  1, 1)]\n",
      "[[0, 0, 0, 0], [1, 1, 1, 1]]\n",
      "<class 'numpy.ndarray'>\n"
     ]
    }
   ],
   "source": [
    "cost_dtype = np.dtype([('weights', list), ('prevnode', int), ('node', int), ('previd', int), ('id', int)])\n",
    "test = np.recarray((1,), dtype=cost_dtype)\n",
    "print(test)\n",
    "test[0] = ([0 for i in range(4)], -1, 1, -1, 0)\n",
    "test.resize(test.shape[0] + 1)\n",
    "test[-1] = ([1 for i in range(4)], 1, 1, 1,1)\n",
    "print(test)\n",
    "print(test.weights.tolist())\n",
    "print(type(test.weights))"
   ]
  },
  {
   "cell_type": "code",
   "execution_count": 44,
   "metadata": {},
   "outputs": [
    {
     "name": "stdout",
     "output_type": "stream",
     "text": [
      "[ True  True]\n"
     ]
    },
    {
     "data": {
      "text/plain": [
       "array([ True, False])"
      ]
     },
     "execution_count": 44,
     "metadata": {},
     "output_type": "execute_result"
    }
   ],
   "source": [
    "def pareto_front(lst:np.array):\n",
    "        \"\"\"\n",
    "        Fonction qui pour une liste de vecteurs coût donné, retourne le front de pareto\n",
    "        \n",
    "        Retourne un np.array qui a chaque index indique True si le vecteur à cette indice est non dominé, False sinon.\n",
    "\n",
    "        Parameters\n",
    "        ----------\n",
    "        self\n",
    "        lst:np.array\n",
    "            Liste de vecteur coût\n",
    "\n",
    "        Returns\n",
    "        -------\n",
    "        front:np.array\n",
    "            np.array de taille de la lst, avec pour chaque valeur à l'index donné qui indique si le vecteur est non dominé ou dominé\n",
    "        \"\"\"\n",
    "        costs = np.array(lst)\n",
    "        front = np.ones(costs.shape[0], dtype = bool)\n",
    "        for i, c in enumerate(costs):\n",
    "            if front[i]:\n",
    "                print(front)\n",
    "                front[front] = np.any(costs[front][:,:-1]<c[:-1], axis=1)  # Keep any point with a lower cost\n",
    "                front[i] = True  # And keep self\n",
    "        return front\n",
    "\n",
    "pareto_front(test.weights.tolist())"
   ]
  },
  {
   "cell_type": "code",
   "execution_count": null,
   "metadata": {},
   "outputs": [],
   "source": []
  }
 ],
 "metadata": {
  "kernelspec": {
   "display_name": "projet_androide",
   "language": "python",
   "name": "python3"
  },
  "language_info": {
   "codemirror_mode": {
    "name": "ipython",
    "version": 3
   },
   "file_extension": ".py",
   "mimetype": "text/x-python",
   "name": "python",
   "nbconvert_exporter": "python",
   "pygments_lexer": "ipython3",
   "version": "3.8.16"
  },
  "orig_nbformat": 4
 },
 "nbformat": 4,
 "nbformat_minor": 2
}
